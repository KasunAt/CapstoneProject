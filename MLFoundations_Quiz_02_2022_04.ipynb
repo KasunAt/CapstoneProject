{
  "nbformat": 4,
  "nbformat_minor": 0,
  "metadata": {
    "colab": {
      "name": "MLFoundations-Quiz-02-2022-04.ipynb",
      "provenance": [],
      "collapsed_sections": [],
      "include_colab_link": true
    },
    "kernelspec": {
      "name": "python3",
      "display_name": "Python 3"
    },
    "language_info": {
      "name": "python"
    }
  },
  "cells": [
    {
      "cell_type": "markdown",
      "metadata": {
        "id": "view-in-github",
        "colab_type": "text"
      },
      "source": [
        "<a href=\"https://colab.research.google.com/github/KasunAt/CapstoneProject/blob/main/MLFoundations_Quiz_02_2022_04.ipynb\" target=\"_parent\"><img src=\"https://colab.research.google.com/assets/colab-badge.svg\" alt=\"Open In Colab\"/></a>"
      ]
    },
    {
      "cell_type": "markdown",
      "metadata": {
        "id": "yRJKZ3JzD1qv"
      },
      "source": [
        "# Dataset: Bike Sharing Dataset\n",
        "Reference: Fanaee-T, Hadi, and Gama, Joao, 'Event labeling combining ensemble detectors and background knowledge', Progress in Artificial Intelligence (2013): pp. 1-15, Springer Berlin Heidelberg.[https://archive.ics.uci.edu/ml/datasets/Bike+Sharing+Dataset]\n"
      ]
    },
    {
      "cell_type": "code",
      "source": [
        ""
      ],
      "metadata": {
        "id": "2WtSUn6Yc-mK"
      },
      "execution_count": null,
      "outputs": []
    },
    {
      "cell_type": "markdown",
      "metadata": {
        "id": "bUH66kVQeLvz"
      },
      "source": [
        "# Student Name: << Kasun Atapattu >>\n",
        "# Date : << 29/4/2022>>"
      ]
    },
    {
      "cell_type": "markdown",
      "metadata": {
        "id": "hEzWLTnPBgif"
      },
      "source": [
        "# Assignment Instructions\n",
        "* You will be given ten (10) tasks to complete the code cells. Some tasks may contain subtasks that you will get partial points for completing each.\n",
        "* **Provide your code ONLY in between hash (#) lines.**\n",
        "* Do not add or modify code outside the hash (#) lines!\n",
        "* Example answers, partially completed code, or hints may be provided for some tasks.\n",
        "* You may diagnose any programing errors encountered and resolve them to get the final solution.\n",
        "\n",
        "### Example Answer:\n",
        "**Task 0: create variable named `a` and assign value `3.14`. Then print the value of `a`.**\n",
        "\n",
        "```python\n",
        "# Task 0: Type your code below\n",
        "###############################\n",
        "a = 3.14\n",
        "print(a)\n",
        "###############################\n",
        "```"
      ]
    },
    {
      "cell_type": "markdown",
      "source": [
        "# The Problem\n",
        "\n",
        "A bike rental business owner hired you to build a machine learning solution to enhance his business functions by predicting how many bikes will be rented in a given day.\n",
        "\n",
        "The business owner provided you with a data set containing daily rental counts collected for two years. You also have some information about each date and weather observations in the dataset."
      ],
      "metadata": {
        "id": "23YpPgglTEEJ"
      }
    },
    {
      "cell_type": "markdown",
      "metadata": {
        "id": "Dtumfyuk-9tg"
      },
      "source": [
        "## 1. Load Python Modules"
      ]
    },
    {
      "cell_type": "code",
      "metadata": {
        "id": "dOHDFQl3-gq6"
      },
      "source": [
        "import numpy as np\n",
        "import pandas as pd\n",
        "import matplotlib.pyplot as plt\n",
        "import seaborn as sns\n",
        "\n",
        "from sklearn import tree\n",
        "from sklearn.tree import DecisionTreeClassifier\n",
        "from sklearn.model_selection import train_test_split\n",
        "from sklearn import metrics"
      ],
      "execution_count": 1,
      "outputs": []
    },
    {
      "cell_type": "markdown",
      "metadata": {
        "id": "8PWD7IAT-6VZ"
      },
      "source": [
        "## 2. Load Data File"
      ]
    },
    {
      "cell_type": "code",
      "metadata": {
        "id": "cT5UlBts-1rg"
      },
      "source": [
        "file_path= 'https://raw.githubusercontent.com/SumuduTennakoon/MLFoundations/main/Datasets/daily_bike_rental.csv'\n",
        "\n",
        "# Load CSV File\n",
        "data = pd.read_csv(file_path)"
      ],
      "execution_count": 2,
      "outputs": []
    },
    {
      "cell_type": "markdown",
      "metadata": {
        "id": "TwjzLHHZA-f4"
      },
      "source": [
        "## 3. Check Completeness of the Dataset\n"
      ]
    },
    {
      "cell_type": "code",
      "metadata": {
        "id": "xwSOcQ7a_D0_",
        "colab": {
          "base_uri": "https://localhost:8080/",
          "height": 206
        },
        "outputId": "c037703f-ad4a-4012-e2d3-527c0bfb7bd2"
      },
      "source": [
        "# Optional Task: Preview a sample of 5 rows of the datset\n",
        "#############################################################\n",
        "data.sample(5)\n",
        "\n",
        "#############################################################"
      ],
      "execution_count": 3,
      "outputs": [
        {
          "output_type": "execute_result",
          "data": {
            "text/plain": [
              "     row_id  year  month  day weekday  is_holiday  is_workingday weather_type  \\\n",
              "304     304  2011     11    1     TUE           0            1.0        CLEAR   \n",
              "517     517  2012      6    1     FRI           0            1.0  CLOUDY/MIST   \n",
              "598     598  2012      8   21     TUE           0            1.0        CLEAR   \n",
              "393     393  2012      1   29     SUN           0            0.0        CLEAR   \n",
              "306     306  2011     11    3     THU           0            1.0        CLEAR   \n",
              "\n",
              "     temperature  feel_temperature  humidity  windspeed  rental_count  \n",
              "304         16.4              19.9      68.4        9.1          4068  \n",
              "517         26.8              30.4      75.5       15.9          4127  \n",
              "598         26.6              30.1      67.4        4.9          7006  \n",
              "393         11.6              13.6      31.1       16.1          3243  \n",
              "306         16.7              20.3      70.2        9.2          3974  "
            ],
            "text/html": [
              "\n",
              "  <div id=\"df-256060e5-4449-4824-997c-0f6ec0185cb5\">\n",
              "    <div class=\"colab-df-container\">\n",
              "      <div>\n",
              "<style scoped>\n",
              "    .dataframe tbody tr th:only-of-type {\n",
              "        vertical-align: middle;\n",
              "    }\n",
              "\n",
              "    .dataframe tbody tr th {\n",
              "        vertical-align: top;\n",
              "    }\n",
              "\n",
              "    .dataframe thead th {\n",
              "        text-align: right;\n",
              "    }\n",
              "</style>\n",
              "<table border=\"1\" class=\"dataframe\">\n",
              "  <thead>\n",
              "    <tr style=\"text-align: right;\">\n",
              "      <th></th>\n",
              "      <th>row_id</th>\n",
              "      <th>year</th>\n",
              "      <th>month</th>\n",
              "      <th>day</th>\n",
              "      <th>weekday</th>\n",
              "      <th>is_holiday</th>\n",
              "      <th>is_workingday</th>\n",
              "      <th>weather_type</th>\n",
              "      <th>temperature</th>\n",
              "      <th>feel_temperature</th>\n",
              "      <th>humidity</th>\n",
              "      <th>windspeed</th>\n",
              "      <th>rental_count</th>\n",
              "    </tr>\n",
              "  </thead>\n",
              "  <tbody>\n",
              "    <tr>\n",
              "      <th>304</th>\n",
              "      <td>304</td>\n",
              "      <td>2011</td>\n",
              "      <td>11</td>\n",
              "      <td>1</td>\n",
              "      <td>TUE</td>\n",
              "      <td>0</td>\n",
              "      <td>1.0</td>\n",
              "      <td>CLEAR</td>\n",
              "      <td>16.4</td>\n",
              "      <td>19.9</td>\n",
              "      <td>68.4</td>\n",
              "      <td>9.1</td>\n",
              "      <td>4068</td>\n",
              "    </tr>\n",
              "    <tr>\n",
              "      <th>517</th>\n",
              "      <td>517</td>\n",
              "      <td>2012</td>\n",
              "      <td>6</td>\n",
              "      <td>1</td>\n",
              "      <td>FRI</td>\n",
              "      <td>0</td>\n",
              "      <td>1.0</td>\n",
              "      <td>CLOUDY/MIST</td>\n",
              "      <td>26.8</td>\n",
              "      <td>30.4</td>\n",
              "      <td>75.5</td>\n",
              "      <td>15.9</td>\n",
              "      <td>4127</td>\n",
              "    </tr>\n",
              "    <tr>\n",
              "      <th>598</th>\n",
              "      <td>598</td>\n",
              "      <td>2012</td>\n",
              "      <td>8</td>\n",
              "      <td>21</td>\n",
              "      <td>TUE</td>\n",
              "      <td>0</td>\n",
              "      <td>1.0</td>\n",
              "      <td>CLEAR</td>\n",
              "      <td>26.6</td>\n",
              "      <td>30.1</td>\n",
              "      <td>67.4</td>\n",
              "      <td>4.9</td>\n",
              "      <td>7006</td>\n",
              "    </tr>\n",
              "    <tr>\n",
              "      <th>393</th>\n",
              "      <td>393</td>\n",
              "      <td>2012</td>\n",
              "      <td>1</td>\n",
              "      <td>29</td>\n",
              "      <td>SUN</td>\n",
              "      <td>0</td>\n",
              "      <td>0.0</td>\n",
              "      <td>CLEAR</td>\n",
              "      <td>11.6</td>\n",
              "      <td>13.6</td>\n",
              "      <td>31.1</td>\n",
              "      <td>16.1</td>\n",
              "      <td>3243</td>\n",
              "    </tr>\n",
              "    <tr>\n",
              "      <th>306</th>\n",
              "      <td>306</td>\n",
              "      <td>2011</td>\n",
              "      <td>11</td>\n",
              "      <td>3</td>\n",
              "      <td>THU</td>\n",
              "      <td>0</td>\n",
              "      <td>1.0</td>\n",
              "      <td>CLEAR</td>\n",
              "      <td>16.7</td>\n",
              "      <td>20.3</td>\n",
              "      <td>70.2</td>\n",
              "      <td>9.2</td>\n",
              "      <td>3974</td>\n",
              "    </tr>\n",
              "  </tbody>\n",
              "</table>\n",
              "</div>\n",
              "      <button class=\"colab-df-convert\" onclick=\"convertToInteractive('df-256060e5-4449-4824-997c-0f6ec0185cb5')\"\n",
              "              title=\"Convert this dataframe to an interactive table.\"\n",
              "              style=\"display:none;\">\n",
              "        \n",
              "  <svg xmlns=\"http://www.w3.org/2000/svg\" height=\"24px\"viewBox=\"0 0 24 24\"\n",
              "       width=\"24px\">\n",
              "    <path d=\"M0 0h24v24H0V0z\" fill=\"none\"/>\n",
              "    <path d=\"M18.56 5.44l.94 2.06.94-2.06 2.06-.94-2.06-.94-.94-2.06-.94 2.06-2.06.94zm-11 1L8.5 8.5l.94-2.06 2.06-.94-2.06-.94L8.5 2.5l-.94 2.06-2.06.94zm10 10l.94 2.06.94-2.06 2.06-.94-2.06-.94-.94-2.06-.94 2.06-2.06.94z\"/><path d=\"M17.41 7.96l-1.37-1.37c-.4-.4-.92-.59-1.43-.59-.52 0-1.04.2-1.43.59L10.3 9.45l-7.72 7.72c-.78.78-.78 2.05 0 2.83L4 21.41c.39.39.9.59 1.41.59.51 0 1.02-.2 1.41-.59l7.78-7.78 2.81-2.81c.8-.78.8-2.07 0-2.86zM5.41 20L4 18.59l7.72-7.72 1.47 1.35L5.41 20z\"/>\n",
              "  </svg>\n",
              "      </button>\n",
              "      \n",
              "  <style>\n",
              "    .colab-df-container {\n",
              "      display:flex;\n",
              "      flex-wrap:wrap;\n",
              "      gap: 12px;\n",
              "    }\n",
              "\n",
              "    .colab-df-convert {\n",
              "      background-color: #E8F0FE;\n",
              "      border: none;\n",
              "      border-radius: 50%;\n",
              "      cursor: pointer;\n",
              "      display: none;\n",
              "      fill: #1967D2;\n",
              "      height: 32px;\n",
              "      padding: 0 0 0 0;\n",
              "      width: 32px;\n",
              "    }\n",
              "\n",
              "    .colab-df-convert:hover {\n",
              "      background-color: #E2EBFA;\n",
              "      box-shadow: 0px 1px 2px rgba(60, 64, 67, 0.3), 0px 1px 3px 1px rgba(60, 64, 67, 0.15);\n",
              "      fill: #174EA6;\n",
              "    }\n",
              "\n",
              "    [theme=dark] .colab-df-convert {\n",
              "      background-color: #3B4455;\n",
              "      fill: #D2E3FC;\n",
              "    }\n",
              "\n",
              "    [theme=dark] .colab-df-convert:hover {\n",
              "      background-color: #434B5C;\n",
              "      box-shadow: 0px 1px 3px 1px rgba(0, 0, 0, 0.15);\n",
              "      filter: drop-shadow(0px 1px 2px rgba(0, 0, 0, 0.3));\n",
              "      fill: #FFFFFF;\n",
              "    }\n",
              "  </style>\n",
              "\n",
              "      <script>\n",
              "        const buttonEl =\n",
              "          document.querySelector('#df-256060e5-4449-4824-997c-0f6ec0185cb5 button.colab-df-convert');\n",
              "        buttonEl.style.display =\n",
              "          google.colab.kernel.accessAllowed ? 'block' : 'none';\n",
              "\n",
              "        async function convertToInteractive(key) {\n",
              "          const element = document.querySelector('#df-256060e5-4449-4824-997c-0f6ec0185cb5');\n",
              "          const dataTable =\n",
              "            await google.colab.kernel.invokeFunction('convertToInteractive',\n",
              "                                                     [key], {});\n",
              "          if (!dataTable) return;\n",
              "\n",
              "          const docLinkHtml = 'Like what you see? Visit the ' +\n",
              "            '<a target=\"_blank\" href=https://colab.research.google.com/notebooks/data_table.ipynb>data table notebook</a>'\n",
              "            + ' to learn more about interactive tables.';\n",
              "          element.innerHTML = '';\n",
              "          dataTable['output_type'] = 'display_data';\n",
              "          await google.colab.output.renderOutput(dataTable, element);\n",
              "          const docLink = document.createElement('div');\n",
              "          docLink.innerHTML = docLinkHtml;\n",
              "          element.appendChild(docLink);\n",
              "        }\n",
              "      </script>\n",
              "    </div>\n",
              "  </div>\n",
              "  "
            ]
          },
          "metadata": {},
          "execution_count": 3
        }
      ]
    },
    {
      "cell_type": "code",
      "source": [
        "# Optional Task: Identify column data types\n",
        "#############################################################\n",
        "data.dtypes\n",
        "\n",
        "#############################################################"
      ],
      "metadata": {
        "id": "SPAvvuR63LZV",
        "colab": {
          "base_uri": "https://localhost:8080/"
        },
        "outputId": "024a60e2-9fd0-4214-f32c-0573517cee3b"
      },
      "execution_count": 4,
      "outputs": [
        {
          "output_type": "execute_result",
          "data": {
            "text/plain": [
              "row_id                int64\n",
              "year                  int64\n",
              "month                 int64\n",
              "day                   int64\n",
              "weekday              object\n",
              "is_holiday            int64\n",
              "is_workingday       float64\n",
              "weather_type         object\n",
              "temperature         float64\n",
              "feel_temperature    float64\n",
              "humidity            float64\n",
              "windspeed           float64\n",
              "rental_count          int64\n",
              "dtype: object"
            ]
          },
          "metadata": {},
          "execution_count": 4
        }
      ]
    },
    {
      "cell_type": "code",
      "source": [
        "# Optional Task: Identify columns with missing values if there are any\n",
        "#############################################################\n",
        "data.isnull().any()\n",
        "\n",
        "#############################################################"
      ],
      "metadata": {
        "id": "zT9LWjBY3SfH",
        "colab": {
          "base_uri": "https://localhost:8080/"
        },
        "outputId": "9dd5550b-a572-4d6c-ac4b-806e57a3d0ca"
      },
      "execution_count": 5,
      "outputs": [
        {
          "output_type": "execute_result",
          "data": {
            "text/plain": [
              "row_id              False\n",
              "year                False\n",
              "month               False\n",
              "day                 False\n",
              "weekday             False\n",
              "is_holiday          False\n",
              "is_workingday        True\n",
              "weather_type        False\n",
              "temperature         False\n",
              "feel_temperature     True\n",
              "humidity            False\n",
              "windspeed           False\n",
              "rental_count        False\n",
              "dtype: bool"
            ]
          },
          "metadata": {},
          "execution_count": 5
        }
      ]
    },
    {
      "cell_type": "code",
      "metadata": {
        "id": "m_Ck0aXj_0XG",
        "colab": {
          "base_uri": "https://localhost:8080/"
        },
        "outputId": "054b0dea-462c-4954-e9f3-9aa349e1309e"
      },
      "source": [
        "# Optional Task: Complete code below to print number of rows and columns.\n",
        "#############################################################\n",
        "rows =  data.shape[0]\n",
        "columns =  data.shape[1]\n",
        "#############################################################\n",
        "print(F\"rows = {rows}, columns={columns}\")\n"
      ],
      "execution_count": 6,
      "outputs": [
        {
          "output_type": "stream",
          "name": "stdout",
          "text": [
            "rows = 731, columns=13\n"
          ]
        }
      ]
    },
    {
      "cell_type": "markdown",
      "metadata": {
        "id": "-x05UuDHDf6Q"
      },
      "source": [
        "## 4. Treat Missing Values and Outliers\n",
        " \n",
        "\n"
      ]
    },
    {
      "cell_type": "markdown",
      "metadata": {
        "id": "N383f5PlHtHm"
      },
      "source": [
        "**Task 1 : Treating Outlliers**\n",
        " * 1.1 Identify Columns with Outliers\n",
        " * 1.2 Remove Rows with Outlier Values"
      ]
    },
    {
      "cell_type": "code",
      "metadata": {
        "id": "BuFthEWvGfoQ",
        "colab": {
          "base_uri": "https://localhost:8080/",
          "height": 1000
        },
        "outputId": "4e5663d2-39b8-4b00-98a6-91580ef0d84b"
      },
      "source": [
        "# Task 1.1: Type your code you used to find columns with Outliers. \n",
        "#  Hint 1:  use print() to display intermediate results\n",
        "#  Hint 2 : use Box Plots as a visual tool\n",
        "#############################################################\n",
        "data['temperature'].plot(kind='box', title='Temperature box plot')\n",
        "plt.show()\n",
        "data['feel_temperature'].plot(kind='box', title='feel_temperature box plot')\n",
        "plt.show()\n",
        "data['humidity'].plot(kind='box', title='Humidity box plot')\n",
        "plt.show()\n",
        "data['windspeed'].plot(kind='box', title='windspeed box plot')\n",
        "plt.show()\n",
        "#############################################################"
      ],
      "execution_count": 7,
      "outputs": [
        {
          "output_type": "display_data",
          "data": {
            "text/plain": [
              "<Figure size 432x288 with 1 Axes>"
            ],
            "image/png": "[encoded data removed]"
          },
          "metadata": {
            "needs_background": "light"
          }
        },
        {
          "output_type": "display_data",
          "data": {
            "text/plain": [
              "<Figure size 432x288 with 1 Axes>"
            ],
            "image/png": "[encoded data removed]"
          },
          "metadata": {
            "needs_background": "light"
          }
        },
        {
          "output_type": "display_data",
          "data": {
            "text/plain": [
              "<Figure size 432x288 with 1 Axes>"
            ],
            "image/png": "[encoded data removed]"
          },
          "metadata": {
            "needs_background": "light"
          }
        },
        {
          "output_type": "display_data",
          "data": {
            "text/plain": [
              "<Figure size 432x288 with 1 Axes>"
            ],
            "image/png": "[encoded data removed]"
          },
          "metadata": {
            "needs_background": "light"
          }
        }
      ]
    },
    {
      "cell_type": "code",
      "source": [
        "# Task 1.2: Remove rows containing outlier values\n",
        "#############################################################\n",
        "#remove outlier from Humidity\n",
        "q1 = data['humidity'].quantile(q=0.25)\n",
        "q3 = data['humidity'].quantile(q=0.75)\n",
        "lower_bound = q1 - 1.5*(q3-q1)\n",
        "upper_bound = q3 + 1.5*(q3-q1)\n",
        "data.drop(data[data['humidity'] < lower_bound].index, inplace = True)\n",
        "data.drop(data[data['humidity'] > upper_bound].index, inplace = True)\n",
        "data['humidity'].plot(kind='box')\n",
        "plt.show()\n",
        "\n",
        "#remove outlier from windspeed\n",
        "r1 = data['windspeed'].quantile(q=0.25)\n",
        "r3 = data['windspeed'].quantile(q=0.75)\n",
        "lower_bound = r1 - 1.5*(r3-r1)\n",
        "upper_bound = r3 + 1.5*(r3-r1)\n",
        "data.drop(data[data['windspeed'] < lower_bound].index, inplace = True)\n",
        "data.drop(data[data['windspeed'] > upper_bound].index, inplace = True)\n",
        "data['windspeed'].plot(kind='box')\n",
        "plt.show()\n",
        "\n",
        "print(data.shape[0])\n",
        "#############################################################"
      ],
      "metadata": {
        "id": "nCtTKho36NuT",
        "colab": {
          "base_uri": "https://localhost:8080/",
          "height": 532
        },
        "outputId": "aeb71f53-e205-4e25-fd5e-7cb27f7a8c5b"
      },
      "execution_count": 209,
      "outputs": [
        {
          "output_type": "display_data",
          "data": {
            "text/plain": [
              "<Figure size 432x288 with 1 Axes>"
            ],
            "image/png": "[encoded data removed]"
          },
          "metadata": {
            "needs_background": "light"
          }
        },
        {
          "output_type": "display_data",
          "data": {
            "text/plain": [
              "<Figure size 432x288 with 1 Axes>"
            ],
            "image/png": "[encoded data removed]"
          },
          "metadata": {
            "needs_background": "light"
          }
        },
        {
          "output_type": "stream",
          "name": "stdout",
          "text": [
            "699\n"
          ]
        }
      ]
    },
    {
      "cell_type": "markdown",
      "metadata": {
        "id": "TeAhYS56wKch"
      },
      "source": [
        "**Task 2 : Treating Missing Values**\n",
        " * 2.1 Identify and remove rows cotaining missing values"
      ]
    },
    {
      "cell_type": "code",
      "source": [
        "# Task 2.1:  Identify and remove rows cotaining missing values\n",
        "#############################################################\n",
        "data.dropna(how='any', axis=0, inplace=True)\n",
        "data.isnull().any()\n",
        "\n",
        "#############################################################"
      ],
      "metadata": {
        "id": "1Sc1-EuNwW09",
        "colab": {
          "base_uri": "https://localhost:8080/"
        },
        "outputId": "d3af71bd-0c18-4e95-f2c3-98e65874a0ab"
      },
      "execution_count": 12,
      "outputs": [
        {
          "output_type": "execute_result",
          "data": {
            "text/plain": [
              "row_id              False\n",
              "year                False\n",
              "month               False\n",
              "day                 False\n",
              "weekday             False\n",
              "is_holiday          False\n",
              "is_workingday       False\n",
              "weather_type        False\n",
              "temperature         False\n",
              "feel_temperature    False\n",
              "humidity            False\n",
              "windspeed           False\n",
              "rental_count        False\n",
              "dtype: bool"
            ]
          },
          "metadata": {},
          "execution_count": 12
        }
      ]
    },
    {
      "cell_type": "markdown",
      "metadata": {
        "id": "TkBeZfMEKG1C"
      },
      "source": [
        "**Task 3: Analyze `weather_type` and `weekday` columns**\n",
        "\n",
        " * 3.1 Get construct and display freqeuncy table for the column 'weather_type'\n",
        " * 3.2 Get a summary table of average `rental_count` by `weather_type'.\n",
        " * 3.3 Get a ummary table of average `rental_count` by `weekday`"
      ]
    },
    {
      "cell_type": "code",
      "metadata": {
        "id": "loW2-4QKLnPp",
        "colab": {
          "base_uri": "https://localhost:8080/"
        },
        "outputId": "c9a758d0-5e94-4125-de38-bb6f729c527f"
      },
      "source": [
        "#############################################################\n",
        "# Task 3.1: Type your code to construct and display freqeuncy table for the column 'weather_type'.\n",
        "data['weather_type'].value_counts()\n",
        "#############################################################"
      ],
      "execution_count": 13,
      "outputs": [
        {
          "output_type": "execute_result",
          "data": {
            "text/plain": [
              "CLEAR              443\n",
              "CLOUDY/MIST        236\n",
              "LIGHT RAIN/SNOW     20\n",
              "Name: weather_type, dtype: int64"
            ]
          },
          "metadata": {},
          "execution_count": 13
        }
      ]
    },
    {
      "cell_type": "code",
      "metadata": {
        "id": "snt-kmPYLwRw",
        "colab": {
          "base_uri": "https://localhost:8080/"
        },
        "outputId": "3058636b-ef07-4c49-f513-d88fbbb1f1d9"
      },
      "source": [
        "# Task 3.2: summary table of average `rental_count` by `weather_type`\n",
        "# Hint: use group by\n",
        "#############################################################\n",
        "data.groupby(by='weather_type')['rental_count'].count()\n",
        "\n",
        "#############################################################"
      ],
      "execution_count": 14,
      "outputs": [
        {
          "output_type": "execute_result",
          "data": {
            "text/plain": [
              "weather_type\n",
              "CLEAR              443\n",
              "CLOUDY/MIST        236\n",
              "LIGHT RAIN/SNOW     20\n",
              "Name: rental_count, dtype: int64"
            ]
          },
          "metadata": {},
          "execution_count": 14
        }
      ]
    },
    {
      "cell_type": "code",
      "source": [
        "# Task 3.3: summary table of average `rental_count` by `weekday`\n",
        "# Hint: use group by\n",
        "#############################################################\n",
        "data.groupby(by='weekday')['rental_count'].count()\n",
        "\n",
        "#############################################################"
      ],
      "metadata": {
        "id": "EDC3jFJMDerf",
        "colab": {
          "base_uri": "https://localhost:8080/"
        },
        "outputId": "f325918e-4461-494a-cbd9-a64e1ec2aec2"
      },
      "execution_count": 15,
      "outputs": [
        {
          "output_type": "execute_result",
          "data": {
            "text/plain": [
              "weekday\n",
              "FRI     97\n",
              "MON    100\n",
              "SAT     98\n",
              "SUN    100\n",
              "THU    100\n",
              "TUE    103\n",
              "WED    101\n",
              "Name: rental_count, dtype: int64"
            ]
          },
          "metadata": {},
          "execution_count": 15
        }
      ]
    },
    {
      "cell_type": "markdown",
      "source": [
        "# 5. Encoding"
      ],
      "metadata": {
        "id": "7yvW6G0rv99D"
      }
    },
    {
      "cell_type": "markdown",
      "source": [
        "**Task 4: Encode categorical columns `weather_type` and `weekday` to numeric values**\n",
        "\n",
        " * 4.1 Encode categorical columns `weather_type`\n",
        " * 4.2 Encode categorical columns `weekday`\n",
        "\n",
        "**Encoding scheme**\n",
        "**weather_type**\n",
        "* CLEAR -> 1 \n",
        "* CLOUDY/MIST -> 2\n",
        "* LIGHT RAIN/SNOW -> 3\n",
        "\n",
        "**weekday**\n",
        "* SUN -> 1 \n",
        "* MON -> 2 \n",
        "* TUE -> 3 \n",
        "* WED -> 4 \n",
        "* THU -> 5 \n",
        "* FRI -> 6 \n",
        "* SAT -> 7 "
      ],
      "metadata": {
        "id": "lGmd9duswnZ5"
      }
    },
    {
      "cell_type": "code",
      "source": [
        "# Task 4.1: Encode categorical columns weather_type\n",
        "# Hint: use replace()\n",
        "#############################################################\n",
        "WT = {'CLEAR' : 1, 'CLOUDY/MIST' : 2, 'LIGHT RAIN/SNOW' : 3}\n",
        "data['weather_type'] = data['weather_type'].replace(WT)\n",
        "data.sample(5)\n",
        "#############################################################"
      ],
      "metadata": {
        "id": "C3cZ3nB-wp_i",
        "colab": {
          "base_uri": "https://localhost:8080/",
          "height": 206
        },
        "outputId": "588665c0-3e31-4155-90cb-f82b1707f96a"
      },
      "execution_count": 18,
      "outputs": [
        {
          "output_type": "execute_result",
          "data": {
            "text/plain": [
              "     row_id  year  month  day weekday  is_holiday  is_workingday  \\\n",
              "618     618  2012      9   10     MON           0            1.0   \n",
              "541     541  2012      6   25     MON           0            1.0   \n",
              "15       15  2011      1   16     SUN           0            0.0   \n",
              "266     266  2011      9   24     SAT           0            0.0   \n",
              "24       24  2011      1   25     TUE           0            1.0   \n",
              "\n",
              "     weather_type  temperature  feel_temperature  humidity  windspeed  \\\n",
              "618             1         23.9              28.3      50.4       17.3   \n",
              "541             1         29.3              32.7      50.4       20.1   \n",
              "15              1          9.5              11.7      48.4       12.6   \n",
              "266             2         24.9              28.2      86.2        5.3   \n",
              "24              2          9.2              11.7      61.7        8.7   \n",
              "\n",
              "     rental_count  \n",
              "618          7525  \n",
              "541          6779  \n",
              "15           1204  \n",
              "266          5423  \n",
              "24           1985  "
            ],
            "text/html": [
              "\n",
              "  <div id=\"df-44ba1b77-75db-4c2e-b2ef-fd4a3f30156e\">\n",
              "    <div class=\"colab-df-container\">\n",
              "      <div>\n",
              "<style scoped>\n",
              "    .dataframe tbody tr th:only-of-type {\n",
              "        vertical-align: middle;\n",
              "    }\n",
              "\n",
              "    .dataframe tbody tr th {\n",
              "        vertical-align: top;\n",
              "    }\n",
              "\n",
              "    .dataframe thead th {\n",
              "        text-align: right;\n",
              "    }\n",
              "</style>\n",
              "<table border=\"1\" class=\"dataframe\">\n",
              "  <thead>\n",
              "    <tr style=\"text-align: right;\">\n",
              "      <th></th>\n",
              "      <th>row_id</th>\n",
              "      <th>year</th>\n",
              "      <th>month</th>\n",
              "      <th>day</th>\n",
              "      <th>weekday</th>\n",
              "      <th>is_holiday</th>\n",
              "      <th>is_workingday</th>\n",
              "      <th>weather_type</th>\n",
              "      <th>temperature</th>\n",
              "      <th>feel_temperature</th>\n",
              "      <th>humidity</th>\n",
              "      <th>windspeed</th>\n",
              "      <th>rental_count</th>\n",
              "    </tr>\n",
              "  </thead>\n",
              "  <tbody>\n",
              "    <tr>\n",
              "      <th>618</th>\n",
              "      <td>618</td>\n",
              "      <td>2012</td>\n",
              "      <td>9</td>\n",
              "      <td>10</td>\n",
              "      <td>MON</td>\n",
              "      <td>0</td>\n",
              "      <td>1.0</td>\n",
              "      <td>1</td>\n",
              "      <td>23.9</td>\n",
              "      <td>28.3</td>\n",
              "      <td>50.4</td>\n",
              "      <td>17.3</td>\n",
              "      <td>7525</td>\n",
              "    </tr>\n",
              "    <tr>\n",
              "      <th>541</th>\n",
              "      <td>541</td>\n",
              "      <td>2012</td>\n",
              "      <td>6</td>\n",
              "      <td>25</td>\n",
              "      <td>MON</td>\n",
              "      <td>0</td>\n",
              "      <td>1.0</td>\n",
              "      <td>1</td>\n",
              "      <td>29.3</td>\n",
              "      <td>32.7</td>\n",
              "      <td>50.4</td>\n",
              "      <td>20.1</td>\n",
              "      <td>6779</td>\n",
              "    </tr>\n",
              "    <tr>\n",
              "      <th>15</th>\n",
              "      <td>15</td>\n",
              "      <td>2011</td>\n",
              "      <td>1</td>\n",
              "      <td>16</td>\n",
              "      <td>SUN</td>\n",
              "      <td>0</td>\n",
              "      <td>0.0</td>\n",
              "      <td>1</td>\n",
              "      <td>9.5</td>\n",
              "      <td>11.7</td>\n",
              "      <td>48.4</td>\n",
              "      <td>12.6</td>\n",
              "      <td>1204</td>\n",
              "    </tr>\n",
              "    <tr>\n",
              "      <th>266</th>\n",
              "      <td>266</td>\n",
              "      <td>2011</td>\n",
              "      <td>9</td>\n",
              "      <td>24</td>\n",
              "      <td>SAT</td>\n",
              "      <td>0</td>\n",
              "      <td>0.0</td>\n",
              "      <td>2</td>\n",
              "      <td>24.9</td>\n",
              "      <td>28.2</td>\n",
              "      <td>86.2</td>\n",
              "      <td>5.3</td>\n",
              "      <td>5423</td>\n",
              "    </tr>\n",
              "    <tr>\n",
              "      <th>24</th>\n",
              "      <td>24</td>\n",
              "      <td>2011</td>\n",
              "      <td>1</td>\n",
              "      <td>25</td>\n",
              "      <td>TUE</td>\n",
              "      <td>0</td>\n",
              "      <td>1.0</td>\n",
              "      <td>2</td>\n",
              "      <td>9.2</td>\n",
              "      <td>11.7</td>\n",
              "      <td>61.7</td>\n",
              "      <td>8.7</td>\n",
              "      <td>1985</td>\n",
              "    </tr>\n",
              "  </tbody>\n",
              "</table>\n",
              "</div>\n",
              "      <button class=\"colab-df-convert\" onclick=\"convertToInteractive('df-44ba1b77-75db-4c2e-b2ef-fd4a3f30156e')\"\n",
              "              title=\"Convert this dataframe to an interactive table.\"\n",
              "              style=\"display:none;\">\n",
              "        \n",
              "  <svg xmlns=\"http://www.w3.org/2000/svg\" height=\"24px\"viewBox=\"0 0 24 24\"\n",
              "       width=\"24px\">\n",
              "    <path d=\"M0 0h24v24H0V0z\" fill=\"none\"/>\n",
              "    <path d=\"M18.56 5.44l.94 2.06.94-2.06 2.06-.94-2.06-.94-.94-2.06-.94 2.06-2.06.94zm-11 1L8.5 8.5l.94-2.06 2.06-.94-2.06-.94L8.5 2.5l-.94 2.06-2.06.94zm10 10l.94 2.06.94-2.06 2.06-.94-2.06-.94-.94-2.06-.94 2.06-2.06.94z\"/><path d=\"M17.41 7.96l-1.37-1.37c-.4-.4-.92-.59-1.43-.59-.52 0-1.04.2-1.43.59L10.3 9.45l-7.72 7.72c-.78.78-.78 2.05 0 2.83L4 21.41c.39.39.9.59 1.41.59.51 0 1.02-.2 1.41-.59l7.78-7.78 2.81-2.81c.8-.78.8-2.07 0-2.86zM5.41 20L4 18.59l7.72-7.72 1.47 1.35L5.41 20z\"/>\n",
              "  </svg>\n",
              "      </button>\n",
              "      \n",
              "  <style>\n",
              "    .colab-df-container {\n",
              "      display:flex;\n",
              "      flex-wrap:wrap;\n",
              "      gap: 12px;\n",
              "    }\n",
              "\n",
              "    .colab-df-convert {\n",
              "      background-color: #E8F0FE;\n",
              "      border: none;\n",
              "      border-radius: 50%;\n",
              "      cursor: pointer;\n",
              "      display: none;\n",
              "      fill: #1967D2;\n",
              "      height: 32px;\n",
              "      padding: 0 0 0 0;\n",
              "      width: 32px;\n",
              "    }\n",
              "\n",
              "    .colab-df-convert:hover {\n",
              "      background-color: #E2EBFA;\n",
              "      box-shadow: 0px 1px 2px rgba(60, 64, 67, 0.3), 0px 1px 3px 1px rgba(60, 64, 67, 0.15);\n",
              "      fill: #174EA6;\n",
              "    }\n",
              "\n",
              "    [theme=dark] .colab-df-convert {\n",
              "      background-color: #3B4455;\n",
              "      fill: #D2E3FC;\n",
              "    }\n",
              "\n",
              "    [theme=dark] .colab-df-convert:hover {\n",
              "      background-color: #434B5C;\n",
              "      box-shadow: 0px 1px 3px 1px rgba(0, 0, 0, 0.15);\n",
              "      filter: drop-shadow(0px 1px 2px rgba(0, 0, 0, 0.3));\n",
              "      fill: #FFFFFF;\n",
              "    }\n",
              "  </style>\n",
              "\n",
              "      <script>\n",
              "        const buttonEl =\n",
              "          document.querySelector('#df-44ba1b77-75db-4c2e-b2ef-fd4a3f30156e button.colab-df-convert');\n",
              "        buttonEl.style.display =\n",
              "          google.colab.kernel.accessAllowed ? 'block' : 'none';\n",
              "\n",
              "        async function convertToInteractive(key) {\n",
              "          const element = document.querySelector('#df-44ba1b77-75db-4c2e-b2ef-fd4a3f30156e');\n",
              "          const dataTable =\n",
              "            await google.colab.kernel.invokeFunction('convertToInteractive',\n",
              "                                                     [key], {});\n",
              "          if (!dataTable) return;\n",
              "\n",
              "          const docLinkHtml = 'Like what you see? Visit the ' +\n",
              "            '<a target=\"_blank\" href=https://colab.research.google.com/notebooks/data_table.ipynb>data table notebook</a>'\n",
              "            + ' to learn more about interactive tables.';\n",
              "          element.innerHTML = '';\n",
              "          dataTable['output_type'] = 'display_data';\n",
              "          await google.colab.output.renderOutput(dataTable, element);\n",
              "          const docLink = document.createElement('div');\n",
              "          docLink.innerHTML = docLinkHtml;\n",
              "          element.appendChild(docLink);\n",
              "        }\n",
              "      </script>\n",
              "    </div>\n",
              "  </div>\n",
              "  "
            ]
          },
          "metadata": {},
          "execution_count": 18
        }
      ]
    },
    {
      "cell_type": "code",
      "source": [
        "# Task 4.2: Encode categorical columns weather_type\n",
        "# Hint: use replace()\n",
        "#############################################################\n",
        "WD = {'SUN': 1,'MON': 2,'TUE': 3,'WED': 4,'THU' : 5,'FRI': 6,'SAT': 7}\n",
        "data['weekday'] = data['weekday'].replace(WD)\n",
        "data.sample(5)\n",
        "\n",
        "#############################################################"
      ],
      "metadata": {
        "id": "iQ-9q5imya98",
        "colab": {
          "base_uri": "https://localhost:8080/",
          "height": 206
        },
        "outputId": "b35865e3-9d2a-48a7-a1c7-209635815d59"
      },
      "execution_count": 19,
      "outputs": [
        {
          "output_type": "execute_result",
          "data": {
            "text/plain": [
              "     row_id  year  month  day  weekday  is_holiday  is_workingday  \\\n",
              "724     724  2012     12   25        3           1            0.0   \n",
              "461     461  2012      4    6        6           0            1.0   \n",
              "34       34  2011      2    4        6           0            1.0   \n",
              "149     149  2011      5   30        2           1            0.0   \n",
              "301     301  2011     10   29        7           0            0.0   \n",
              "\n",
              "     weather_type  temperature  feel_temperature  humidity  windspeed  \\\n",
              "724             2         11.9              14.7      73.5       11.3   \n",
              "461             1         16.5              19.5      37.7       20.1   \n",
              "34              2          8.7              11.4      58.5        8.6   \n",
              "149             1         30.1              33.6      68.5        8.8   \n",
              "301             3         10.4              11.4      88.2       23.5   \n",
              "\n",
              "     rental_count  \n",
              "724          1013  \n",
              "461          6460  \n",
              "34           1708  \n",
              "149          4098  \n",
              "301           627  "
            ],
            "text/html": [
              "\n",
              "  <div id=\"df-ddb6b401-a6eb-4f99-9d0c-a63b309e0dc7\">\n",
              "    <div class=\"colab-df-container\">\n",
              "      <div>\n",
              "<style scoped>\n",
              "    .dataframe tbody tr th:only-of-type {\n",
              "        vertical-align: middle;\n",
              "    }\n",
              "\n",
              "    .dataframe tbody tr th {\n",
              "        vertical-align: top;\n",
              "    }\n",
              "\n",
              "    .dataframe thead th {\n",
              "        text-align: right;\n",
              "    }\n",
              "</style>\n",
              "<table border=\"1\" class=\"dataframe\">\n",
              "  <thead>\n",
              "    <tr style=\"text-align: right;\">\n",
              "      <th></th>\n",
              "      <th>row_id</th>\n",
              "      <th>year</th>\n",
              "      <th>month</th>\n",
              "      <th>day</th>\n",
              "      <th>weekday</th>\n",
              "      <th>is_holiday</th>\n",
              "      <th>is_workingday</th>\n",
              "      <th>weather_type</th>\n",
              "      <th>temperature</th>\n",
              "      <th>feel_temperature</th>\n",
              "      <th>humidity</th>\n",
              "      <th>windspeed</th>\n",
              "      <th>rental_count</th>\n",
              "    </tr>\n",
              "  </thead>\n",
              "  <tbody>\n",
              "    <tr>\n",
              "      <th>724</th>\n",
              "      <td>724</td>\n",
              "      <td>2012</td>\n",
              "      <td>12</td>\n",
              "      <td>25</td>\n",
              "      <td>3</td>\n",
              "      <td>1</td>\n",
              "      <td>0.0</td>\n",
              "      <td>2</td>\n",
              "      <td>11.9</td>\n",
              "      <td>14.7</td>\n",
              "      <td>73.5</td>\n",
              "      <td>11.3</td>\n",
              "      <td>1013</td>\n",
              "    </tr>\n",
              "    <tr>\n",
              "      <th>461</th>\n",
              "      <td>461</td>\n",
              "      <td>2012</td>\n",
              "      <td>4</td>\n",
              "      <td>6</td>\n",
              "      <td>6</td>\n",
              "      <td>0</td>\n",
              "      <td>1.0</td>\n",
              "      <td>1</td>\n",
              "      <td>16.5</td>\n",
              "      <td>19.5</td>\n",
              "      <td>37.7</td>\n",
              "      <td>20.1</td>\n",
              "      <td>6460</td>\n",
              "    </tr>\n",
              "    <tr>\n",
              "      <th>34</th>\n",
              "      <td>34</td>\n",
              "      <td>2011</td>\n",
              "      <td>2</td>\n",
              "      <td>4</td>\n",
              "      <td>6</td>\n",
              "      <td>0</td>\n",
              "      <td>1.0</td>\n",
              "      <td>2</td>\n",
              "      <td>8.7</td>\n",
              "      <td>11.4</td>\n",
              "      <td>58.5</td>\n",
              "      <td>8.6</td>\n",
              "      <td>1708</td>\n",
              "    </tr>\n",
              "    <tr>\n",
              "      <th>149</th>\n",
              "      <td>149</td>\n",
              "      <td>2011</td>\n",
              "      <td>5</td>\n",
              "      <td>30</td>\n",
              "      <td>2</td>\n",
              "      <td>1</td>\n",
              "      <td>0.0</td>\n",
              "      <td>1</td>\n",
              "      <td>30.1</td>\n",
              "      <td>33.6</td>\n",
              "      <td>68.5</td>\n",
              "      <td>8.8</td>\n",
              "      <td>4098</td>\n",
              "    </tr>\n",
              "    <tr>\n",
              "      <th>301</th>\n",
              "      <td>301</td>\n",
              "      <td>2011</td>\n",
              "      <td>10</td>\n",
              "      <td>29</td>\n",
              "      <td>7</td>\n",
              "      <td>0</td>\n",
              "      <td>0.0</td>\n",
              "      <td>3</td>\n",
              "      <td>10.4</td>\n",
              "      <td>11.4</td>\n",
              "      <td>88.2</td>\n",
              "      <td>23.5</td>\n",
              "      <td>627</td>\n",
              "    </tr>\n",
              "  </tbody>\n",
              "</table>\n",
              "</div>\n",
              "      <button class=\"colab-df-convert\" onclick=\"convertToInteractive('df-ddb6b401-a6eb-4f99-9d0c-a63b309e0dc7')\"\n",
              "              title=\"Convert this dataframe to an interactive table.\"\n",
              "              style=\"display:none;\">\n",
              "        \n",
              "  <svg xmlns=\"http://www.w3.org/2000/svg\" height=\"24px\"viewBox=\"0 0 24 24\"\n",
              "       width=\"24px\">\n",
              "    <path d=\"M0 0h24v24H0V0z\" fill=\"none\"/>\n",
              "    <path d=\"M18.56 5.44l.94 2.06.94-2.06 2.06-.94-2.06-.94-.94-2.06-.94 2.06-2.06.94zm-11 1L8.5 8.5l.94-2.06 2.06-.94-2.06-.94L8.5 2.5l-.94 2.06-2.06.94zm10 10l.94 2.06.94-2.06 2.06-.94-2.06-.94-.94-2.06-.94 2.06-2.06.94z\"/><path d=\"M17.41 7.96l-1.37-1.37c-.4-.4-.92-.59-1.43-.59-.52 0-1.04.2-1.43.59L10.3 9.45l-7.72 7.72c-.78.78-.78 2.05 0 2.83L4 21.41c.39.39.9.59 1.41.59.51 0 1.02-.2 1.41-.59l7.78-7.78 2.81-2.81c.8-.78.8-2.07 0-2.86zM5.41 20L4 18.59l7.72-7.72 1.47 1.35L5.41 20z\"/>\n",
              "  </svg>\n",
              "      </button>\n",
              "      \n",
              "  <style>\n",
              "    .colab-df-container {\n",
              "      display:flex;\n",
              "      flex-wrap:wrap;\n",
              "      gap: 12px;\n",
              "    }\n",
              "\n",
              "    .colab-df-convert {\n",
              "      background-color: #E8F0FE;\n",
              "      border: none;\n",
              "      border-radius: 50%;\n",
              "      cursor: pointer;\n",
              "      display: none;\n",
              "      fill: #1967D2;\n",
              "      height: 32px;\n",
              "      padding: 0 0 0 0;\n",
              "      width: 32px;\n",
              "    }\n",
              "\n",
              "    .colab-df-convert:hover {\n",
              "      background-color: #E2EBFA;\n",
              "      box-shadow: 0px 1px 2px rgba(60, 64, 67, 0.3), 0px 1px 3px 1px rgba(60, 64, 67, 0.15);\n",
              "      fill: #174EA6;\n",
              "    }\n",
              "\n",
              "    [theme=dark] .colab-df-convert {\n",
              "      background-color: #3B4455;\n",
              "      fill: #D2E3FC;\n",
              "    }\n",
              "\n",
              "    [theme=dark] .colab-df-convert:hover {\n",
              "      background-color: #434B5C;\n",
              "      box-shadow: 0px 1px 3px 1px rgba(0, 0, 0, 0.15);\n",
              "      filter: drop-shadow(0px 1px 2px rgba(0, 0, 0, 0.3));\n",
              "      fill: #FFFFFF;\n",
              "    }\n",
              "  </style>\n",
              "\n",
              "      <script>\n",
              "        const buttonEl =\n",
              "          document.querySelector('#df-ddb6b401-a6eb-4f99-9d0c-a63b309e0dc7 button.colab-df-convert');\n",
              "        buttonEl.style.display =\n",
              "          google.colab.kernel.accessAllowed ? 'block' : 'none';\n",
              "\n",
              "        async function convertToInteractive(key) {\n",
              "          const element = document.querySelector('#df-ddb6b401-a6eb-4f99-9d0c-a63b309e0dc7');\n",
              "          const dataTable =\n",
              "            await google.colab.kernel.invokeFunction('convertToInteractive',\n",
              "                                                     [key], {});\n",
              "          if (!dataTable) return;\n",
              "\n",
              "          const docLinkHtml = 'Like what you see? Visit the ' +\n",
              "            '<a target=\"_blank\" href=https://colab.research.google.com/notebooks/data_table.ipynb>data table notebook</a>'\n",
              "            + ' to learn more about interactive tables.';\n",
              "          element.innerHTML = '';\n",
              "          dataTable['output_type'] = 'display_data';\n",
              "          await google.colab.output.renderOutput(dataTable, element);\n",
              "          const docLink = document.createElement('div');\n",
              "          docLink.innerHTML = docLinkHtml;\n",
              "          element.appendChild(docLink);\n",
              "        }\n",
              "      </script>\n",
              "    </div>\n",
              "  </div>\n",
              "  "
            ]
          },
          "metadata": {},
          "execution_count": 19
        }
      ]
    },
    {
      "cell_type": "markdown",
      "metadata": {
        "id": "Zju6GddqOWuq"
      },
      "source": [
        "# 6. Building Machine Learning model"
      ]
    },
    {
      "cell_type": "markdown",
      "source": [
        "**Task 5: Get correlation_matrix for all numeric columns**"
      ],
      "metadata": {
        "id": "hgomy0FxFQks"
      }
    },
    {
      "cell_type": "code",
      "source": [
        "# Task 5: Complete the code below using correlation function Pandas.\n",
        "#############################################################\n",
        "correlation_matrix = data[['weekday', 'is_holiday', 'is_workingday', 'weather_type', 'temperature', 'feel_temperature', 'humidity', 'windspeed', 'rental_count']].corr()\n",
        "\n",
        "#############################################################\n",
        "\n",
        "correlation_matrix"
      ],
      "metadata": {
        "id": "tFyLkn-fDUHq",
        "colab": {
          "base_uri": "https://localhost:8080/",
          "height": 332
        },
        "outputId": "cc45df51-6777-43ae-fe5f-9858e90f538f"
      },
      "execution_count": 20,
      "outputs": [
        {
          "output_type": "execute_result",
          "data": {
            "text/plain": [
              "                   weekday  is_holiday  is_workingday  weather_type  \\\n",
              "weekday           1.000000   -0.097249       0.037713      0.026296   \n",
              "is_holiday       -0.097249    1.000000      -0.254932     -0.045680   \n",
              "is_workingday     0.037713   -0.254932       1.000000      0.068533   \n",
              "weather_type      0.026296   -0.045680       0.068533      1.000000   \n",
              "temperature       0.006679   -0.017949       0.035545     -0.121739   \n",
              "feel_temperature -0.000333   -0.021627       0.033578     -0.123526   \n",
              "humidity         -0.046944   -0.016207       0.023363      0.636108   \n",
              "windspeed        -0.007327    0.018380      -0.002625      0.053672   \n",
              "rental_count      0.071334   -0.059705       0.040250     -0.302232   \n",
              "\n",
              "                  temperature  feel_temperature  humidity  windspeed  \\\n",
              "weekday              0.006679         -0.000333 -0.046944  -0.007327   \n",
              "is_holiday          -0.017949         -0.021627 -0.016207   0.018380   \n",
              "is_workingday        0.035545          0.033578  0.023363  -0.002625   \n",
              "weather_type        -0.121739         -0.123526  0.636108   0.053672   \n",
              "temperature          1.000000          0.991449  0.108586  -0.145424   \n",
              "feel_temperature     0.991449          1.000000  0.119633  -0.169326   \n",
              "humidity             0.108586          0.119633  1.000000  -0.198589   \n",
              "windspeed           -0.145424         -0.169326 -0.198589   1.000000   \n",
              "rental_count         0.624554          0.627851 -0.143357  -0.213742   \n",
              "\n",
              "                  rental_count  \n",
              "weekday               0.071334  \n",
              "is_holiday           -0.059705  \n",
              "is_workingday         0.040250  \n",
              "weather_type         -0.302232  \n",
              "temperature           0.624554  \n",
              "feel_temperature      0.627851  \n",
              "humidity             -0.143357  \n",
              "windspeed            -0.213742  \n",
              "rental_count          1.000000  "
            ],
            "text/html": [
              "\n",
              "  <div id=\"df-fbfccc90-62bc-438a-accd-603750838e9b\">\n",
              "    <div class=\"colab-df-container\">\n",
              "      <div>\n",
              "<style scoped>\n",
              "    .dataframe tbody tr th:only-of-type {\n",
              "        vertical-align: middle;\n",
              "    }\n",
              "\n",
              "    .dataframe tbody tr th {\n",
              "        vertical-align: top;\n",
              "    }\n",
              "\n",
              "    .dataframe thead th {\n",
              "        text-align: right;\n",
              "    }\n",
              "</style>\n",
              "<table border=\"1\" class=\"dataframe\">\n",
              "  <thead>\n",
              "    <tr style=\"text-align: right;\">\n",
              "      <th></th>\n",
              "      <th>weekday</th>\n",
              "      <th>is_holiday</th>\n",
              "      <th>is_workingday</th>\n",
              "      <th>weather_type</th>\n",
              "      <th>temperature</th>\n",
              "      <th>feel_temperature</th>\n",
              "      <th>humidity</th>\n",
              "      <th>windspeed</th>\n",
              "      <th>rental_count</th>\n",
              "    </tr>\n",
              "  </thead>\n",
              "  <tbody>\n",
              "    <tr>\n",
              "      <th>weekday</th>\n",
              "      <td>1.000000</td>\n",
              "      <td>-0.097249</td>\n",
              "      <td>0.037713</td>\n",
              "      <td>0.026296</td>\n",
              "      <td>0.006679</td>\n",
              "      <td>-0.000333</td>\n",
              "      <td>-0.046944</td>\n",
              "      <td>-0.007327</td>\n",
              "      <td>0.071334</td>\n",
              "    </tr>\n",
              "    <tr>\n",
              "      <th>is_holiday</th>\n",
              "      <td>-0.097249</td>\n",
              "      <td>1.000000</td>\n",
              "      <td>-0.254932</td>\n",
              "      <td>-0.045680</td>\n",
              "      <td>-0.017949</td>\n",
              "      <td>-0.021627</td>\n",
              "      <td>-0.016207</td>\n",
              "      <td>0.018380</td>\n",
              "      <td>-0.059705</td>\n",
              "    </tr>\n",
              "    <tr>\n",
              "      <th>is_workingday</th>\n",
              "      <td>0.037713</td>\n",
              "      <td>-0.254932</td>\n",
              "      <td>1.000000</td>\n",
              "      <td>0.068533</td>\n",
              "      <td>0.035545</td>\n",
              "      <td>0.033578</td>\n",
              "      <td>0.023363</td>\n",
              "      <td>-0.002625</td>\n",
              "      <td>0.040250</td>\n",
              "    </tr>\n",
              "    <tr>\n",
              "      <th>weather_type</th>\n",
              "      <td>0.026296</td>\n",
              "      <td>-0.045680</td>\n",
              "      <td>0.068533</td>\n",
              "      <td>1.000000</td>\n",
              "      <td>-0.121739</td>\n",
              "      <td>-0.123526</td>\n",
              "      <td>0.636108</td>\n",
              "      <td>0.053672</td>\n",
              "      <td>-0.302232</td>\n",
              "    </tr>\n",
              "    <tr>\n",
              "      <th>temperature</th>\n",
              "      <td>0.006679</td>\n",
              "      <td>-0.017949</td>\n",
              "      <td>0.035545</td>\n",
              "      <td>-0.121739</td>\n",
              "      <td>1.000000</td>\n",
              "      <td>0.991449</td>\n",
              "      <td>0.108586</td>\n",
              "      <td>-0.145424</td>\n",
              "      <td>0.624554</td>\n",
              "    </tr>\n",
              "    <tr>\n",
              "      <th>feel_temperature</th>\n",
              "      <td>-0.000333</td>\n",
              "      <td>-0.021627</td>\n",
              "      <td>0.033578</td>\n",
              "      <td>-0.123526</td>\n",
              "      <td>0.991449</td>\n",
              "      <td>1.000000</td>\n",
              "      <td>0.119633</td>\n",
              "      <td>-0.169326</td>\n",
              "      <td>0.627851</td>\n",
              "    </tr>\n",
              "    <tr>\n",
              "      <th>humidity</th>\n",
              "      <td>-0.046944</td>\n",
              "      <td>-0.016207</td>\n",
              "      <td>0.023363</td>\n",
              "      <td>0.636108</td>\n",
              "      <td>0.108586</td>\n",
              "      <td>0.119633</td>\n",
              "      <td>1.000000</td>\n",
              "      <td>-0.198589</td>\n",
              "      <td>-0.143357</td>\n",
              "    </tr>\n",
              "    <tr>\n",
              "      <th>windspeed</th>\n",
              "      <td>-0.007327</td>\n",
              "      <td>0.018380</td>\n",
              "      <td>-0.002625</td>\n",
              "      <td>0.053672</td>\n",
              "      <td>-0.145424</td>\n",
              "      <td>-0.169326</td>\n",
              "      <td>-0.198589</td>\n",
              "      <td>1.000000</td>\n",
              "      <td>-0.213742</td>\n",
              "    </tr>\n",
              "    <tr>\n",
              "      <th>rental_count</th>\n",
              "      <td>0.071334</td>\n",
              "      <td>-0.059705</td>\n",
              "      <td>0.040250</td>\n",
              "      <td>-0.302232</td>\n",
              "      <td>0.624554</td>\n",
              "      <td>0.627851</td>\n",
              "      <td>-0.143357</td>\n",
              "      <td>-0.213742</td>\n",
              "      <td>1.000000</td>\n",
              "    </tr>\n",
              "  </tbody>\n",
              "</table>\n",
              "</div>\n",
              "      <button class=\"colab-df-convert\" onclick=\"convertToInteractive('df-fbfccc90-62bc-438a-accd-603750838e9b')\"\n",
              "              title=\"Convert this dataframe to an interactive table.\"\n",
              "              style=\"display:none;\">\n",
              "        \n",
              "  <svg xmlns=\"http://www.w3.org/2000/svg\" height=\"24px\"viewBox=\"0 0 24 24\"\n",
              "       width=\"24px\">\n",
              "    <path d=\"M0 0h24v24H0V0z\" fill=\"none\"/>\n",
              "    <path d=\"M18.56 5.44l.94 2.06.94-2.06 2.06-.94-2.06-.94-.94-2.06-.94 2.06-2.06.94zm-11 1L8.5 8.5l.94-2.06 2.06-.94-2.06-.94L8.5 2.5l-.94 2.06-2.06.94zm10 10l.94 2.06.94-2.06 2.06-.94-2.06-.94-.94-2.06-.94 2.06-2.06.94z\"/><path d=\"M17.41 7.96l-1.37-1.37c-.4-.4-.92-.59-1.43-.59-.52 0-1.04.2-1.43.59L10.3 9.45l-7.72 7.72c-.78.78-.78 2.05 0 2.83L4 21.41c.39.39.9.59 1.41.59.51 0 1.02-.2 1.41-.59l7.78-7.78 2.81-2.81c.8-.78.8-2.07 0-2.86zM5.41 20L4 18.59l7.72-7.72 1.47 1.35L5.41 20z\"/>\n",
              "  </svg>\n",
              "      </button>\n",
              "      \n",
              "  <style>\n",
              "    .colab-df-container {\n",
              "      display:flex;\n",
              "      flex-wrap:wrap;\n",
              "      gap: 12px;\n",
              "    }\n",
              "\n",
              "    .colab-df-convert {\n",
              "      background-color: #E8F0FE;\n",
              "      border: none;\n",
              "      border-radius: 50%;\n",
              "      cursor: pointer;\n",
              "      display: none;\n",
              "      fill: #1967D2;\n",
              "      height: 32px;\n",
              "      padding: 0 0 0 0;\n",
              "      width: 32px;\n",
              "    }\n",
              "\n",
              "    .colab-df-convert:hover {\n",
              "      background-color: #E2EBFA;\n",
              "      box-shadow: 0px 1px 2px rgba(60, 64, 67, 0.3), 0px 1px 3px 1px rgba(60, 64, 67, 0.15);\n",
              "      fill: #174EA6;\n",
              "    }\n",
              "\n",
              "    [theme=dark] .colab-df-convert {\n",
              "      background-color: #3B4455;\n",
              "      fill: #D2E3FC;\n",
              "    }\n",
              "\n",
              "    [theme=dark] .colab-df-convert:hover {\n",
              "      background-color: #434B5C;\n",
              "      box-shadow: 0px 1px 3px 1px rgba(0, 0, 0, 0.15);\n",
              "      filter: drop-shadow(0px 1px 2px rgba(0, 0, 0, 0.3));\n",
              "      fill: #FFFFFF;\n",
              "    }\n",
              "  </style>\n",
              "\n",
              "      <script>\n",
              "        const buttonEl =\n",
              "          document.querySelector('#df-fbfccc90-62bc-438a-accd-603750838e9b button.colab-df-convert');\n",
              "        buttonEl.style.display =\n",
              "          google.colab.kernel.accessAllowed ? 'block' : 'none';\n",
              "\n",
              "        async function convertToInteractive(key) {\n",
              "          const element = document.querySelector('#df-fbfccc90-62bc-438a-accd-603750838e9b');\n",
              "          const dataTable =\n",
              "            await google.colab.kernel.invokeFunction('convertToInteractive',\n",
              "                                                     [key], {});\n",
              "          if (!dataTable) return;\n",
              "\n",
              "          const docLinkHtml = 'Like what you see? Visit the ' +\n",
              "            '<a target=\"_blank\" href=https://colab.research.google.com/notebooks/data_table.ipynb>data table notebook</a>'\n",
              "            + ' to learn more about interactive tables.';\n",
              "          element.innerHTML = '';\n",
              "          dataTable['output_type'] = 'display_data';\n",
              "          await google.colab.output.renderOutput(dataTable, element);\n",
              "          const docLink = document.createElement('div');\n",
              "          docLink.innerHTML = docLinkHtml;\n",
              "          element.appendChild(docLink);\n",
              "        }\n",
              "      </script>\n",
              "    </div>\n",
              "  </div>\n",
              "  "
            ]
          },
          "metadata": {},
          "execution_count": 20
        }
      ]
    },
    {
      "cell_type": "markdown",
      "source": [
        "**Task 6: Create new variable `is_weekend`**"
      ],
      "metadata": {
        "id": "REs2_04vzGs-"
      }
    },
    {
      "cell_type": "code",
      "source": [
        "# Task 6: Type your code below to create a new variable `is_weekend` (1 if weekdaay is either 'SAT' or 'SUN')\n",
        "# Hint: Replace \"?\" by the appropriate expression\n",
        "#############################################################\n",
        "data['is_weekend'] = np.where((data['weekday']==1) | (data['weekday']==7), 1,0)\n",
        "data.sample(5)\n",
        "#############################################################"
      ],
      "metadata": {
        "id": "qM_erdGiPQVD",
        "colab": {
          "base_uri": "https://localhost:8080/",
          "height": 250
        },
        "outputId": "08da527a-143e-472b-945f-b4e1488f91f9"
      },
      "execution_count": 25,
      "outputs": [
        {
          "output_type": "execute_result",
          "data": {
            "text/plain": [
              "     row_id  year  month  day  weekday  is_holiday  is_workingday  \\\n",
              "81       81  2011      3   23        4           0            1.0   \n",
              "140     140  2011      5   21        7           0            0.0   \n",
              "366     366  2012      1    2        2           1            0.0   \n",
              "475     475  2012      4   20        6           0            1.0   \n",
              "718     718  2012     12   19        4           0            1.0   \n",
              "\n",
              "     weather_type  temperature  feel_temperature  humidity  windspeed  \\\n",
              "81              2         14.2              16.9      84.0       15.7   \n",
              "140             1         24.7              28.6      62.7        8.1   \n",
              "366             1         11.2              12.6      38.1       22.1   \n",
              "475             1         21.6              25.8      69.5       10.0   \n",
              "718             1         13.6              17.1      62.5       12.3   \n",
              "\n",
              "     rental_count  is_weekend  \n",
              "81           2121           0  \n",
              "140          5805           1  \n",
              "366          1951           0  \n",
              "475          7290           0  \n",
              "718          5267           0  "
            ],
            "text/html": [
              "\n",
              "  <div id=\"df-ab343ef4-999c-4ae3-aa36-27c19ca562fe\">\n",
              "    <div class=\"colab-df-container\">\n",
              "      <div>\n",
              "<style scoped>\n",
              "    .dataframe tbody tr th:only-of-type {\n",
              "        vertical-align: middle;\n",
              "    }\n",
              "\n",
              "    .dataframe tbody tr th {\n",
              "        vertical-align: top;\n",
              "    }\n",
              "\n",
              "    .dataframe thead th {\n",
              "        text-align: right;\n",
              "    }\n",
              "</style>\n",
              "<table border=\"1\" class=\"dataframe\">\n",
              "  <thead>\n",
              "    <tr style=\"text-align: right;\">\n",
              "      <th></th>\n",
              "      <th>row_id</th>\n",
              "      <th>year</th>\n",
              "      <th>month</th>\n",
              "      <th>day</th>\n",
              "      <th>weekday</th>\n",
              "      <th>is_holiday</th>\n",
              "      <th>is_workingday</th>\n",
              "      <th>weather_type</th>\n",
              "      <th>temperature</th>\n",
              "      <th>feel_temperature</th>\n",
              "      <th>humidity</th>\n",
              "      <th>windspeed</th>\n",
              "      <th>rental_count</th>\n",
              "      <th>is_weekend</th>\n",
              "    </tr>\n",
              "  </thead>\n",
              "  <tbody>\n",
              "    <tr>\n",
              "      <th>81</th>\n",
              "      <td>81</td>\n",
              "      <td>2011</td>\n",
              "      <td>3</td>\n",
              "      <td>23</td>\n",
              "      <td>4</td>\n",
              "      <td>0</td>\n",
              "      <td>1.0</td>\n",
              "      <td>2</td>\n",
              "      <td>14.2</td>\n",
              "      <td>16.9</td>\n",
              "      <td>84.0</td>\n",
              "      <td>15.7</td>\n",
              "      <td>2121</td>\n",
              "      <td>0</td>\n",
              "    </tr>\n",
              "    <tr>\n",
              "      <th>140</th>\n",
              "      <td>140</td>\n",
              "      <td>2011</td>\n",
              "      <td>5</td>\n",
              "      <td>21</td>\n",
              "      <td>7</td>\n",
              "      <td>0</td>\n",
              "      <td>0.0</td>\n",
              "      <td>1</td>\n",
              "      <td>24.7</td>\n",
              "      <td>28.6</td>\n",
              "      <td>62.7</td>\n",
              "      <td>8.1</td>\n",
              "      <td>5805</td>\n",
              "      <td>1</td>\n",
              "    </tr>\n",
              "    <tr>\n",
              "      <th>366</th>\n",
              "      <td>366</td>\n",
              "      <td>2012</td>\n",
              "      <td>1</td>\n",
              "      <td>2</td>\n",
              "      <td>2</td>\n",
              "      <td>1</td>\n",
              "      <td>0.0</td>\n",
              "      <td>1</td>\n",
              "      <td>11.2</td>\n",
              "      <td>12.6</td>\n",
              "      <td>38.1</td>\n",
              "      <td>22.1</td>\n",
              "      <td>1951</td>\n",
              "      <td>0</td>\n",
              "    </tr>\n",
              "    <tr>\n",
              "      <th>475</th>\n",
              "      <td>475</td>\n",
              "      <td>2012</td>\n",
              "      <td>4</td>\n",
              "      <td>20</td>\n",
              "      <td>6</td>\n",
              "      <td>0</td>\n",
              "      <td>1.0</td>\n",
              "      <td>1</td>\n",
              "      <td>21.6</td>\n",
              "      <td>25.8</td>\n",
              "      <td>69.5</td>\n",
              "      <td>10.0</td>\n",
              "      <td>7290</td>\n",
              "      <td>0</td>\n",
              "    </tr>\n",
              "    <tr>\n",
              "      <th>718</th>\n",
              "      <td>718</td>\n",
              "      <td>2012</td>\n",
              "      <td>12</td>\n",
              "      <td>19</td>\n",
              "      <td>4</td>\n",
              "      <td>0</td>\n",
              "      <td>1.0</td>\n",
              "      <td>1</td>\n",
              "      <td>13.6</td>\n",
              "      <td>17.1</td>\n",
              "      <td>62.5</td>\n",
              "      <td>12.3</td>\n",
              "      <td>5267</td>\n",
              "      <td>0</td>\n",
              "    </tr>\n",
              "  </tbody>\n",
              "</table>\n",
              "</div>\n",
              "      <button class=\"colab-df-convert\" onclick=\"convertToInteractive('df-ab343ef4-999c-4ae3-aa36-27c19ca562fe')\"\n",
              "              title=\"Convert this dataframe to an interactive table.\"\n",
              "              style=\"display:none;\">\n",
              "        \n",
              "  <svg xmlns=\"http://www.w3.org/2000/svg\" height=\"24px\"viewBox=\"0 0 24 24\"\n",
              "       width=\"24px\">\n",
              "    <path d=\"M0 0h24v24H0V0z\" fill=\"none\"/>\n",
              "    <path d=\"M18.56 5.44l.94 2.06.94-2.06 2.06-.94-2.06-.94-.94-2.06-.94 2.06-2.06.94zm-11 1L8.5 8.5l.94-2.06 2.06-.94-2.06-.94L8.5 2.5l-.94 2.06-2.06.94zm10 10l.94 2.06.94-2.06 2.06-.94-2.06-.94-.94-2.06-.94 2.06-2.06.94z\"/><path d=\"M17.41 7.96l-1.37-1.37c-.4-.4-.92-.59-1.43-.59-.52 0-1.04.2-1.43.59L10.3 9.45l-7.72 7.72c-.78.78-.78 2.05 0 2.83L4 21.41c.39.39.9.59 1.41.59.51 0 1.02-.2 1.41-.59l7.78-7.78 2.81-2.81c.8-.78.8-2.07 0-2.86zM5.41 20L4 18.59l7.72-7.72 1.47 1.35L5.41 20z\"/>\n",
              "  </svg>\n",
              "      </button>\n",
              "      \n",
              "  <style>\n",
              "    .colab-df-container {\n",
              "      display:flex;\n",
              "      flex-wrap:wrap;\n",
              "      gap: 12px;\n",
              "    }\n",
              "\n",
              "    .colab-df-convert {\n",
              "      background-color: #E8F0FE;\n",
              "      border: none;\n",
              "      border-radius: 50%;\n",
              "      cursor: pointer;\n",
              "      display: none;\n",
              "      fill: #1967D2;\n",
              "      height: 32px;\n",
              "      padding: 0 0 0 0;\n",
              "      width: 32px;\n",
              "    }\n",
              "\n",
              "    .colab-df-convert:hover {\n",
              "      background-color: #E2EBFA;\n",
              "      box-shadow: 0px 1px 2px rgba(60, 64, 67, 0.3), 0px 1px 3px 1px rgba(60, 64, 67, 0.15);\n",
              "      fill: #174EA6;\n",
              "    }\n",
              "\n",
              "    [theme=dark] .colab-df-convert {\n",
              "      background-color: #3B4455;\n",
              "      fill: #D2E3FC;\n",
              "    }\n",
              "\n",
              "    [theme=dark] .colab-df-convert:hover {\n",
              "      background-color: #434B5C;\n",
              "      box-shadow: 0px 1px 3px 1px rgba(0, 0, 0, 0.15);\n",
              "      filter: drop-shadow(0px 1px 2px rgba(0, 0, 0, 0.3));\n",
              "      fill: #FFFFFF;\n",
              "    }\n",
              "  </style>\n",
              "\n",
              "      <script>\n",
              "        const buttonEl =\n",
              "          document.querySelector('#df-ab343ef4-999c-4ae3-aa36-27c19ca562fe button.colab-df-convert');\n",
              "        buttonEl.style.display =\n",
              "          google.colab.kernel.accessAllowed ? 'block' : 'none';\n",
              "\n",
              "        async function convertToInteractive(key) {\n",
              "          const element = document.querySelector('#df-ab343ef4-999c-4ae3-aa36-27c19ca562fe');\n",
              "          const dataTable =\n",
              "            await google.colab.kernel.invokeFunction('convertToInteractive',\n",
              "                                                     [key], {});\n",
              "          if (!dataTable) return;\n",
              "\n",
              "          const docLinkHtml = 'Like what you see? Visit the ' +\n",
              "            '<a target=\"_blank\" href=https://colab.research.google.com/notebooks/data_table.ipynb>data table notebook</a>'\n",
              "            + ' to learn more about interactive tables.';\n",
              "          element.innerHTML = '';\n",
              "          dataTable['output_type'] = 'display_data';\n",
              "          await google.colab.output.renderOutput(dataTable, element);\n",
              "          const docLink = document.createElement('div');\n",
              "          docLink.innerHTML = docLinkHtml;\n",
              "          element.appendChild(docLink);\n",
              "        }\n",
              "      </script>\n",
              "    </div>\n",
              "  </div>\n",
              "  "
            ]
          },
          "metadata": {},
          "execution_count": 25
        }
      ]
    },
    {
      "cell_type": "markdown",
      "source": [
        "**Task 7:** \n",
        " * 7.1 Identify indepenet (X) and dependent (y) variables your would use to build the model\n",
        " * 7.2 Split dataset into two datasets: tain and test\n",
        " * 7.3 Train Model\n",
        " * 7.4 Predict on Test Dataset and create a new DataFrame containing predict and actuals columns.\n",
        " * 7.5 Find Mean Squared Error"
      ],
      "metadata": {
        "id": "6F8h-NPwGp1P"
      }
    },
    {
      "cell_type": "code",
      "source": [
        "# Get liest of column names\n",
        "data.columns"
      ],
      "metadata": {
        "id": "z7fEA8TjRex2",
        "colab": {
          "base_uri": "https://localhost:8080/"
        },
        "outputId": "c26cd4ad-b886-494d-d134-6843d223a91c"
      },
      "execution_count": 26,
      "outputs": [
        {
          "output_type": "execute_result",
          "data": {
            "text/plain": [
              "Index(['row_id', 'year', 'month', 'day', 'weekday', 'is_holiday',\n",
              "       'is_workingday', 'weather_type', 'temperature', 'feel_temperature',\n",
              "       'humidity', 'windspeed', 'rental_count', 'is_weekend'],\n",
              "      dtype='object')"
            ]
          },
          "metadata": {},
          "execution_count": 26
        }
      ]
    },
    {
      "cell_type": "code",
      "metadata": {
        "id": "bGiKsFXzM7rY",
        "colab": {
          "base_uri": "https://localhost:8080/"
        },
        "outputId": "d392bc43-ec9b-4e37-b190-2cbf797f8a20"
      },
      "source": [
        "# Task 7.1: Identify indepenet (X) and dependent (y) variables and complete the code below. \n",
        "# You may need to type of copy column names from the dataframe. It is recomended to begin with minimum selected feature variables.\n",
        "#############################################################\n",
        "\n",
        "#optimum features selected\n",
        "\n",
        "X_variables = ['weather_type', 'feel_temperature','humidity', 'windspeed', 'is_holiday']\n",
        "y_variable = 'rental_count'\n",
        "#############################################################\n",
        "\n",
        "print(F\"X_variables = {X_variables}\")\n",
        "print(F\"y_variable = {y_variable}\")"
      ],
      "execution_count": 184,
      "outputs": [
        {
          "output_type": "stream",
          "name": "stdout",
          "text": [
            "X_variables = ['weather_type', 'feel_temperature', 'humidity', 'windspeed', 'is_holiday']\n",
            "y_variable = rental_count\n"
          ]
        }
      ]
    },
    {
      "cell_type": "code",
      "metadata": {
        "id": "D3d5SUBPRqrG",
        "colab": {
          "base_uri": "https://localhost:8080/"
        },
        "outputId": "6af0ec11-d63d-4fae-c3b3-4ea05d68371f"
      },
      "source": [
        "# Task 7.2 Type your code below to split the dataset into two datasets: train and test\n",
        "# Hint1: use appropriate function from scikit-learn (replace \"?\"  by the correct expression to import the function)\n",
        "# Hint 2: Use parameters test_size=0.3, random_state=0\n",
        "#############################################################\n",
        "from sklearn.model_selection import train_test_split\n",
        "\n",
        "X = data[X_variables]\n",
        "y = data[y_variable]\n",
        "\n",
        "X_train, X_test, y_train, y_test = train_test_split(X, y, test_size=0.3, random_state=0)\n",
        "#############################################################\n",
        "print(\"X_train size:\", X_train.shape[0])\n",
        "print(\"X_test size:\", X_test.shape[0])"
      ],
      "execution_count": 185,
      "outputs": [
        {
          "output_type": "stream",
          "name": "stdout",
          "text": [
            "X_train size: 489\n",
            "X_test size: 210\n"
          ]
        }
      ]
    },
    {
      "cell_type": "code",
      "metadata": {
        "id": "VxZYPsMJd5d1"
      },
      "source": [
        "# Task 7.3 Train model\n",
        "# Hint1: use appropriate DataDrame variables (replace \"?\"  by the correct expression to import the function)\n",
        "from sklearn.linear_model import LinearRegression\n",
        "#############################################################\n",
        "X = X_train[X_variables]\n",
        "y = y_train\n",
        "\n",
        "#############################################################\n",
        "reg = LinearRegression().fit(X, y)"
      ],
      "execution_count": 186,
      "outputs": []
    },
    {
      "cell_type": "code",
      "source": [
        "# Task 7.4 Predict on Test Dataset and create a new DataFrame (`results`) containing predict (`y_test_pred`) and actual (`y_test_actual`) columns.\n",
        "# Hint1: use appropriate DataDrame variables (replace \"?\"  by the correct expression to import the function)\n",
        "#############################################################\n",
        "X_test_features = X_test[X_variables]\n",
        "y_test_actual = y_test.values\n",
        "\n",
        "y_test_pred = reg.predict(X_test_features)\n",
        "\n",
        "results = pd.DataFrame({'y_test_pred':y_test_pred, 'y_test_actual':y_test_actual})\n",
        "#############################################################\n",
        "results.head()"
      ],
      "metadata": {
        "id": "7NH-3EMH0kSB",
        "colab": {
          "base_uri": "https://localhost:8080/",
          "height": 206
        },
        "outputId": "0d4617a5-8920-4a97-e5a0-48695b50cd3e"
      },
      "execution_count": 187,
      "outputs": [
        {
          "output_type": "execute_result",
          "data": {
            "text/plain": [
              "   y_test_pred  y_test_actual\n",
              "0  5533.793724           7030\n",
              "1  7156.350901           6241\n",
              "2  3173.813783           1472\n",
              "3  4668.978787           5698\n",
              "4  3126.385415           1248"
            ],
            "text/html": [
              "\n",
              "  <div id=\"df-4a1f6f3f-6ae1-4a6d-8ddd-325905613097\">\n",
              "    <div class=\"colab-df-container\">\n",
              "      <div>\n",
              "<style scoped>\n",
              "    .dataframe tbody tr th:only-of-type {\n",
              "        vertical-align: middle;\n",
              "    }\n",
              "\n",
              "    .dataframe tbody tr th {\n",
              "        vertical-align: top;\n",
              "    }\n",
              "\n",
              "    .dataframe thead th {\n",
              "        text-align: right;\n",
              "    }\n",
              "</style>\n",
              "<table border=\"1\" class=\"dataframe\">\n",
              "  <thead>\n",
              "    <tr style=\"text-align: right;\">\n",
              "      <th></th>\n",
              "      <th>y_test_pred</th>\n",
              "      <th>y_test_actual</th>\n",
              "    </tr>\n",
              "  </thead>\n",
              "  <tbody>\n",
              "    <tr>\n",
              "      <th>0</th>\n",
              "      <td>5533.793724</td>\n",
              "      <td>7030</td>\n",
              "    </tr>\n",
              "    <tr>\n",
              "      <th>1</th>\n",
              "      <td>7156.350901</td>\n",
              "      <td>6241</td>\n",
              "    </tr>\n",
              "    <tr>\n",
              "      <th>2</th>\n",
              "      <td>3173.813783</td>\n",
              "      <td>1472</td>\n",
              "    </tr>\n",
              "    <tr>\n",
              "      <th>3</th>\n",
              "      <td>4668.978787</td>\n",
              "      <td>5698</td>\n",
              "    </tr>\n",
              "    <tr>\n",
              "      <th>4</th>\n",
              "      <td>3126.385415</td>\n",
              "      <td>1248</td>\n",
              "    </tr>\n",
              "  </tbody>\n",
              "</table>\n",
              "</div>\n",
              "      <button class=\"colab-df-convert\" onclick=\"convertToInteractive('df-4a1f6f3f-6ae1-4a6d-8ddd-325905613097')\"\n",
              "              title=\"Convert this dataframe to an interactive table.\"\n",
              "              style=\"display:none;\">\n",
              "        \n",
              "  <svg xmlns=\"http://www.w3.org/2000/svg\" height=\"24px\"viewBox=\"0 0 24 24\"\n",
              "       width=\"24px\">\n",
              "    <path d=\"M0 0h24v24H0V0z\" fill=\"none\"/>\n",
              "    <path d=\"M18.56 5.44l.94 2.06.94-2.06 2.06-.94-2.06-.94-.94-2.06-.94 2.06-2.06.94zm-11 1L8.5 8.5l.94-2.06 2.06-.94-2.06-.94L8.5 2.5l-.94 2.06-2.06.94zm10 10l.94 2.06.94-2.06 2.06-.94-2.06-.94-.94-2.06-.94 2.06-2.06.94z\"/><path d=\"M17.41 7.96l-1.37-1.37c-.4-.4-.92-.59-1.43-.59-.52 0-1.04.2-1.43.59L10.3 9.45l-7.72 7.72c-.78.78-.78 2.05 0 2.83L4 21.41c.39.39.9.59 1.41.59.51 0 1.02-.2 1.41-.59l7.78-7.78 2.81-2.81c.8-.78.8-2.07 0-2.86zM5.41 20L4 18.59l7.72-7.72 1.47 1.35L5.41 20z\"/>\n",
              "  </svg>\n",
              "      </button>\n",
              "      \n",
              "  <style>\n",
              "    .colab-df-container {\n",
              "      display:flex;\n",
              "      flex-wrap:wrap;\n",
              "      gap: 12px;\n",
              "    }\n",
              "\n",
              "    .colab-df-convert {\n",
              "      background-color: #E8F0FE;\n",
              "      border: none;\n",
              "      border-radius: 50%;\n",
              "      cursor: pointer;\n",
              "      display: none;\n",
              "      fill: #1967D2;\n",
              "      height: 32px;\n",
              "      padding: 0 0 0 0;\n",
              "      width: 32px;\n",
              "    }\n",
              "\n",
              "    .colab-df-convert:hover {\n",
              "      background-color: #E2EBFA;\n",
              "      box-shadow: 0px 1px 2px rgba(60, 64, 67, 0.3), 0px 1px 3px 1px rgba(60, 64, 67, 0.15);\n",
              "      fill: #174EA6;\n",
              "    }\n",
              "\n",
              "    [theme=dark] .colab-df-convert {\n",
              "      background-color: #3B4455;\n",
              "      fill: #D2E3FC;\n",
              "    }\n",
              "\n",
              "    [theme=dark] .colab-df-convert:hover {\n",
              "      background-color: #434B5C;\n",
              "      box-shadow: 0px 1px 3px 1px rgba(0, 0, 0, 0.15);\n",
              "      filter: drop-shadow(0px 1px 2px rgba(0, 0, 0, 0.3));\n",
              "      fill: #FFFFFF;\n",
              "    }\n",
              "  </style>\n",
              "\n",
              "      <script>\n",
              "        const buttonEl =\n",
              "          document.querySelector('#df-4a1f6f3f-6ae1-4a6d-8ddd-325905613097 button.colab-df-convert');\n",
              "        buttonEl.style.display =\n",
              "          google.colab.kernel.accessAllowed ? 'block' : 'none';\n",
              "\n",
              "        async function convertToInteractive(key) {\n",
              "          const element = document.querySelector('#df-4a1f6f3f-6ae1-4a6d-8ddd-325905613097');\n",
              "          const dataTable =\n",
              "            await google.colab.kernel.invokeFunction('convertToInteractive',\n",
              "                                                     [key], {});\n",
              "          if (!dataTable) return;\n",
              "\n",
              "          const docLinkHtml = 'Like what you see? Visit the ' +\n",
              "            '<a target=\"_blank\" href=https://colab.research.google.com/notebooks/data_table.ipynb>data table notebook</a>'\n",
              "            + ' to learn more about interactive tables.';\n",
              "          element.innerHTML = '';\n",
              "          dataTable['output_type'] = 'display_data';\n",
              "          await google.colab.output.renderOutput(dataTable, element);\n",
              "          const docLink = document.createElement('div');\n",
              "          docLink.innerHTML = docLinkHtml;\n",
              "          element.appendChild(docLink);\n",
              "        }\n",
              "      </script>\n",
              "    </div>\n",
              "  </div>\n",
              "  "
            ]
          },
          "metadata": {},
          "execution_count": 187
        }
      ]
    },
    {
      "cell_type": "markdown",
      "source": [
        "# 7. Model Evaluation"
      ],
      "metadata": {
        "id": "UUHvXGmvNhwj"
      }
    },
    {
      "cell_type": "code",
      "source": [
        "# Task 8.1: Find Mean Squared Error\n",
        "# Hint1: use appropriate function from scikit-learn (replace \"?\"  by the correct expression to import the function)\n",
        "#############################################################\n",
        "from sklearn.metrics import mean_squared_error\n",
        "\n",
        "print('MSE:', mean_squared_error(y_test_actual, y_test_pred))\n",
        "#############################################################"
      ],
      "metadata": {
        "id": "ljiLhWUZNp-D",
        "colab": {
          "base_uri": "https://localhost:8080/"
        },
        "outputId": "3e853caf-648b-4dd8-d232-109221fc9a39"
      },
      "execution_count": 188,
      "outputs": [
        {
          "output_type": "stream",
          "name": "stdout",
          "text": [
            "MSE: 2026147.907406527\n"
          ]
        }
      ]
    },
    {
      "cell_type": "code",
      "source": [
        "# Bonus/Optional: plot `y_test_pred` vs `y_test_actual` \n",
        "#############################################################\n",
        "plt.scatter(y_test_actual, y_test_pred)\n",
        "\n",
        "#############################################################"
      ],
      "metadata": {
        "id": "pXiaArcSO6w9",
        "colab": {
          "base_uri": "https://localhost:8080/",
          "height": 282
        },
        "outputId": "144b6d9a-3223-4acc-ca3a-d2584811cb41"
      },
      "execution_count": 189,
      "outputs": [
        {
          "output_type": "execute_result",
          "data": {
            "text/plain": [
              "<matplotlib.collections.PathCollection at 0x7f781cc2afd0>"
            ]
          },
          "metadata": {},
          "execution_count": 189
        },
        {
          "output_type": "display_data",
          "data": {
            "text/plain": [
              "<Figure size 432x288 with 1 Axes>"
            ],
            "image/png": "[encoded data removed]"
          },
          "metadata": {
            "needs_background": "light"
          }
        }
      ]
    },
    {
      "cell_type": "markdown",
      "source": [
        "# 8.1 Changing the problem to a Classification Problem\n",
        "The business owner asked you to create secondery model to predict whether or not they make 5000 rentals in a given day. Your task now is to create a binary classifier model."
      ],
      "metadata": {
        "id": "7ZLUQzWP3Erf"
      }
    },
    {
      "cell_type": "markdown",
      "source": [
        "**Task 8:** \n",
        " * 8.1 Create y variable (`is_rental_gt_5k`) for binary classifier\n",
        "\n",
        "**Condition:**\n",
        "if `rental_count>=5000` then `1` else `0`"
      ],
      "metadata": {
        "id": "v4zgJAOP4KTr"
      }
    },
    {
      "cell_type": "code",
      "source": [
        "#  8.1 Create y variable for binary classifier\n",
        "#############################################################\n",
        "data['is_rental_gt_5k'] = np.where(data['rental_count']>=5000, 1, 0)\n",
        "\n",
        "#############################################################\n",
        "data['is_rental_gt_5k'].value_counts()"
      ],
      "metadata": {
        "id": "X1mNq95eROo2",
        "colab": {
          "base_uri": "https://localhost:8080/"
        },
        "outputId": "9ff41866-d918-484b-8b03-d24252b22ac8"
      },
      "execution_count": 193,
      "outputs": [
        {
          "output_type": "execute_result",
          "data": {
            "text/plain": [
              "0    423\n",
              "1    276\n",
              "Name: is_rental_gt_5k, dtype: int64"
            ]
          },
          "metadata": {},
          "execution_count": 193
        }
      ]
    },
    {
      "cell_type": "markdown",
      "source": [
        "**Task 9: Build Model**"
      ],
      "metadata": {
        "id": "tcdMcECt4xA_"
      }
    },
    {
      "cell_type": "code",
      "source": [
        "# Task 9.1: Identify indepenet (X) and dependent (y) variables and complete the code below. \n",
        "# You may need to type of copy column names from the dataframe. It is recomended to begin with minimum selected feature variables.\n",
        "#############################################################\n",
        "X_variables = ['weather_type', 'feel_temperature','humidity', 'windspeed', 'is_holiday']\n",
        "y_variable = 'is_rental_gt_5k'\n",
        "#############################################################\n",
        "\n",
        "print(F\"X_variables = {X_variables}\")\n",
        "print(F\"y_variable = {y_variable}\")"
      ],
      "metadata": {
        "id": "BYttEnH441Le",
        "colab": {
          "base_uri": "https://localhost:8080/"
        },
        "outputId": "64a65cff-09c1-46fa-f841-f2ad8a691f86"
      },
      "execution_count": 200,
      "outputs": [
        {
          "output_type": "stream",
          "name": "stdout",
          "text": [
            "X_variables = ['weather_type', 'feel_temperature', 'humidity', 'windspeed', 'is_holiday']\n",
            "y_variable = is_rental_gt_5k\n"
          ]
        }
      ]
    },
    {
      "cell_type": "code",
      "source": [
        "# Task 9.2 Train model using Random Forest Classifier\n",
        "# Hint 1: use same train and test datasets above\n",
        "# Hint 2 : import scikit-learn Random Forest Classifier model class (replace \"??\"  by the correct expression to import the function)\n",
        "# Hint 3 : use appropriate DataDrame variables (replace \"?\"  by the correct expression to import the function)\n",
        "from sklearn.ensemble import RandomForestClassifier\n",
        "#############################################################\n",
        "\n",
        "X = data[X_variables]\n",
        "y = data[y_variable]\n",
        "X_train, X_test, y_train, y_test = train_test_split(X, y, test_size=0.3, random_state=0)\n",
        "\n",
        "X = X_train[X_variables]\n",
        "y = y_train\n",
        "#############################################################\n",
        "reg = RandomForestClassifier().fit(X, y)"
      ],
      "metadata": {
        "id": "aMauMGuW47I-"
      },
      "execution_count": 201,
      "outputs": []
    },
    {
      "cell_type": "code",
      "source": [
        "# Task 9.3 Predict on Test Dataset and create a new DataFrame (`results`) containing predicted probability (`y_test_pred_prob`), predict (`y_test_pred`), and actual (`y_test_actual`) columns.\n",
        "# Hint1: use appropriate DataDrame variables (replace \"?\"  by the correct expression to import the function)\n",
        "#############################################################\n",
        "X_test_features = X_test[X_variables]\n",
        "y_test_actual =y_test.values\n",
        "\n",
        "y_test_pred = reg.predict(X_test_features)\n",
        "y_test_pred_prob = reg.predict_proba(X_test_features)[:, 1]\n",
        "\n",
        "results2 = pd.DataFrame({'y_test_actual':y_test_actual, 'y_test_pred':y_test_pred, 'y_test_pred_prob' : y_test_pred_prob })\n",
        "#############################################################\n",
        "results2.head()"
      ],
      "metadata": {
        "id": "BVB6gUeW5p2m",
        "colab": {
          "base_uri": "https://localhost:8080/",
          "height": 206
        },
        "outputId": "96a85972-debb-4203-a8ae-69b77be908b1"
      },
      "execution_count": 202,
      "outputs": [
        {
          "output_type": "execute_result",
          "data": {
            "text/plain": [
              "   y_test_actual  y_test_pred  y_test_pred_prob\n",
              "0              1            1              0.81\n",
              "1              1            1              0.54\n",
              "2              0            0              0.17\n",
              "3              1            0              0.47\n",
              "4              0            0              0.06"
            ],
            "text/html": [
              "\n",
              "  <div id=\"df-f1ecd9bb-61cb-40f6-b564-a414fbb73646\">\n",
              "    <div class=\"colab-df-container\">\n",
              "      <div>\n",
              "<style scoped>\n",
              "    .dataframe tbody tr th:only-of-type {\n",
              "        vertical-align: middle;\n",
              "    }\n",
              "\n",
              "    .dataframe tbody tr th {\n",
              "        vertical-align: top;\n",
              "    }\n",
              "\n",
              "    .dataframe thead th {\n",
              "        text-align: right;\n",
              "    }\n",
              "</style>\n",
              "<table border=\"1\" class=\"dataframe\">\n",
              "  <thead>\n",
              "    <tr style=\"text-align: right;\">\n",
              "      <th></th>\n",
              "      <th>y_test_actual</th>\n",
              "      <th>y_test_pred</th>\n",
              "      <th>y_test_pred_prob</th>\n",
              "    </tr>\n",
              "  </thead>\n",
              "  <tbody>\n",
              "    <tr>\n",
              "      <th>0</th>\n",
              "      <td>1</td>\n",
              "      <td>1</td>\n",
              "      <td>0.81</td>\n",
              "    </tr>\n",
              "    <tr>\n",
              "      <th>1</th>\n",
              "      <td>1</td>\n",
              "      <td>1</td>\n",
              "      <td>0.54</td>\n",
              "    </tr>\n",
              "    <tr>\n",
              "      <th>2</th>\n",
              "      <td>0</td>\n",
              "      <td>0</td>\n",
              "      <td>0.17</td>\n",
              "    </tr>\n",
              "    <tr>\n",
              "      <th>3</th>\n",
              "      <td>1</td>\n",
              "      <td>0</td>\n",
              "      <td>0.47</td>\n",
              "    </tr>\n",
              "    <tr>\n",
              "      <th>4</th>\n",
              "      <td>0</td>\n",
              "      <td>0</td>\n",
              "      <td>0.06</td>\n",
              "    </tr>\n",
              "  </tbody>\n",
              "</table>\n",
              "</div>\n",
              "      <button class=\"colab-df-convert\" onclick=\"convertToInteractive('df-f1ecd9bb-61cb-40f6-b564-a414fbb73646')\"\n",
              "              title=\"Convert this dataframe to an interactive table.\"\n",
              "              style=\"display:none;\">\n",
              "        \n",
              "  <svg xmlns=\"http://www.w3.org/2000/svg\" height=\"24px\"viewBox=\"0 0 24 24\"\n",
              "       width=\"24px\">\n",
              "    <path d=\"M0 0h24v24H0V0z\" fill=\"none\"/>\n",
              "    <path d=\"M18.56 5.44l.94 2.06.94-2.06 2.06-.94-2.06-.94-.94-2.06-.94 2.06-2.06.94zm-11 1L8.5 8.5l.94-2.06 2.06-.94-2.06-.94L8.5 2.5l-.94 2.06-2.06.94zm10 10l.94 2.06.94-2.06 2.06-.94-2.06-.94-.94-2.06-.94 2.06-2.06.94z\"/><path d=\"M17.41 7.96l-1.37-1.37c-.4-.4-.92-.59-1.43-.59-.52 0-1.04.2-1.43.59L10.3 9.45l-7.72 7.72c-.78.78-.78 2.05 0 2.83L4 21.41c.39.39.9.59 1.41.59.51 0 1.02-.2 1.41-.59l7.78-7.78 2.81-2.81c.8-.78.8-2.07 0-2.86zM5.41 20L4 18.59l7.72-7.72 1.47 1.35L5.41 20z\"/>\n",
              "  </svg>\n",
              "      </button>\n",
              "      \n",
              "  <style>\n",
              "    .colab-df-container {\n",
              "      display:flex;\n",
              "      flex-wrap:wrap;\n",
              "      gap: 12px;\n",
              "    }\n",
              "\n",
              "    .colab-df-convert {\n",
              "      background-color: #E8F0FE;\n",
              "      border: none;\n",
              "      border-radius: 50%;\n",
              "      cursor: pointer;\n",
              "      display: none;\n",
              "      fill: #1967D2;\n",
              "      height: 32px;\n",
              "      padding: 0 0 0 0;\n",
              "      width: 32px;\n",
              "    }\n",
              "\n",
              "    .colab-df-convert:hover {\n",
              "      background-color: #E2EBFA;\n",
              "      box-shadow: 0px 1px 2px rgba(60, 64, 67, 0.3), 0px 1px 3px 1px rgba(60, 64, 67, 0.15);\n",
              "      fill: #174EA6;\n",
              "    }\n",
              "\n",
              "    [theme=dark] .colab-df-convert {\n",
              "      background-color: #3B4455;\n",
              "      fill: #D2E3FC;\n",
              "    }\n",
              "\n",
              "    [theme=dark] .colab-df-convert:hover {\n",
              "      background-color: #434B5C;\n",
              "      box-shadow: 0px 1px 3px 1px rgba(0, 0, 0, 0.15);\n",
              "      filter: drop-shadow(0px 1px 2px rgba(0, 0, 0, 0.3));\n",
              "      fill: #FFFFFF;\n",
              "    }\n",
              "  </style>\n",
              "\n",
              "      <script>\n",
              "        const buttonEl =\n",
              "          document.querySelector('#df-f1ecd9bb-61cb-40f6-b564-a414fbb73646 button.colab-df-convert');\n",
              "        buttonEl.style.display =\n",
              "          google.colab.kernel.accessAllowed ? 'block' : 'none';\n",
              "\n",
              "        async function convertToInteractive(key) {\n",
              "          const element = document.querySelector('#df-f1ecd9bb-61cb-40f6-b564-a414fbb73646');\n",
              "          const dataTable =\n",
              "            await google.colab.kernel.invokeFunction('convertToInteractive',\n",
              "                                                     [key], {});\n",
              "          if (!dataTable) return;\n",
              "\n",
              "          const docLinkHtml = 'Like what you see? Visit the ' +\n",
              "            '<a target=\"_blank\" href=https://colab.research.google.com/notebooks/data_table.ipynb>data table notebook</a>'\n",
              "            + ' to learn more about interactive tables.';\n",
              "          element.innerHTML = '';\n",
              "          dataTable['output_type'] = 'display_data';\n",
              "          await google.colab.output.renderOutput(dataTable, element);\n",
              "          const docLink = document.createElement('div');\n",
              "          docLink.innerHTML = docLinkHtml;\n",
              "          element.appendChild(docLink);\n",
              "        }\n",
              "      </script>\n",
              "    </div>\n",
              "  </div>\n",
              "  "
            ]
          },
          "metadata": {},
          "execution_count": 202
        }
      ]
    },
    {
      "cell_type": "markdown",
      "source": [
        "**Task 10: Evaluate Model**\n"
      ],
      "metadata": {
        "id": "UHpeqyCz6L0N"
      }
    },
    {
      "cell_type": "code",
      "source": [
        "# Task 10.1: Create Confusion Matrix\n",
        "# complete the code below\n",
        "#############################################################\n",
        "from sklearn.metrics import confusion_matrix\n",
        "cf_matrix = confusion_matrix(y_test_actual, y_test_pred)\n",
        "\n",
        "#############################################################\n",
        "print(cf_matrix)"
      ],
      "metadata": {
        "id": "5KBbsCCm6Ju5",
        "colab": {
          "base_uri": "https://localhost:8080/"
        },
        "outputId": "9484fda4-b08b-485a-8ab4-15c10480daa9"
      },
      "execution_count": 207,
      "outputs": [
        {
          "output_type": "stream",
          "name": "stdout",
          "text": [
            "[[98 26]\n",
            " [29 57]]\n"
          ]
        }
      ]
    },
    {
      "cell_type": "code",
      "source": [
        "# Task 10.2: Compute Area Under ROC curve\n",
        "# complete the code below\n",
        "# Hint1: use appropriate DataDrame variables (replace \"?\"  by the correct function or variable)\n",
        "from sklearn import metrics\n",
        "\n",
        "#############################################################\n",
        "\n",
        "cf_matrix = metrics.roc_auc_score(y_test_actual, y_test_pred)\n",
        "\n",
        "#############################################################\n",
        "print(cf_matrix)"
      ],
      "metadata": {
        "id": "1l02sA5H6haZ",
        "colab": {
          "base_uri": "https://localhost:8080/"
        },
        "outputId": "37df9234-ec90-43ae-954f-a3772a5ce0f7"
      },
      "execution_count": 205,
      "outputs": [
        {
          "output_type": "stream",
          "name": "stdout",
          "text": [
            "0.7265566391597899\n"
          ]
        }
      ]
    },
    {
      "cell_type": "code",
      "source": [
        "# Task 10.3: Get Precision ,recall and F1 score and display results\n",
        "# Hint: use functions avaiable in `metrics`\n",
        "#############################################################\n",
        "\n",
        "print('recall : ', metrics.recall_score(y_test_actual, y_test_pred, average='weighted'))\n",
        "print('precision : ' , metrics.precision_score(y_test_actual, y_test_pred, average='weighted'))\n",
        "print('f1 : ',metrics.f1_score(y_test_actual, y_test_pred, average='weighted'))\n",
        "\n",
        "\n",
        "#############################################################\n"
      ],
      "metadata": {
        "id": "mDqLnlEM62p2",
        "colab": {
          "base_uri": "https://localhost:8080/"
        },
        "outputId": "9cdac546-f405-4496-8c92-837f14bf97e0"
      },
      "execution_count": 206,
      "outputs": [
        {
          "output_type": "stream",
          "name": "stdout",
          "text": [
            "recall :  0.7380952380952381\n",
            "precision :  0.7368822873044483\n",
            "f1 :  0.7373358075166226\n"
          ]
        }
      ]
    },
    {
      "cell_type": "markdown",
      "metadata": {
        "id": "wQTrDDlMcCR_"
      },
      "source": [
        "<hr>\n",
        "Last update 2022-04-09 by Sumudu Tennakoon"
      ]
    },
    {
      "cell_type": "code",
      "source": [
        ""
      ],
      "metadata": {
        "id": "2pktmHrc9vc2"
      },
      "execution_count": null,
      "outputs": []
    }
  ]
}